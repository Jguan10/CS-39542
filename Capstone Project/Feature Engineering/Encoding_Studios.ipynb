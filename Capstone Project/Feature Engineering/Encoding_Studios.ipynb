{
 "cells": [
  {
   "cell_type": "markdown",
   "metadata": {},
   "source": [
    "Encode studios column"
   ]
  },
  {
   "cell_type": "code",
   "execution_count": 1,
   "metadata": {},
   "outputs": [],
   "source": [
    "import pandas as pd\n",
    "from collections import Counter"
   ]
  },
  {
   "cell_type": "code",
   "execution_count": 2,
   "metadata": {},
   "outputs": [],
   "source": [
    "df = pd.read_csv('Data/studios.csv')\n"
   ]
  },
  {
   "cell_type": "code",
   "execution_count": 6,
   "metadata": {},
   "outputs": [
    {
     "data": {
      "text/html": [
       "<div>\n",
       "<style scoped>\n",
       "    .dataframe tbody tr th:only-of-type {\n",
       "        vertical-align: middle;\n",
       "    }\n",
       "\n",
       "    .dataframe tbody tr th {\n",
       "        vertical-align: top;\n",
       "    }\n",
       "\n",
       "    .dataframe thead th {\n",
       "        text-align: right;\n",
       "    }\n",
       "</style>\n",
       "<table border=\"1\" class=\"dataframe\">\n",
       "  <thead>\n",
       "    <tr style=\"text-align: right;\">\n",
       "      <th></th>\n",
       "      <th>Studio</th>\n",
       "      <th>Count</th>\n",
       "    </tr>\n",
       "  </thead>\n",
       "  <tbody>\n",
       "    <tr>\n",
       "      <th>0</th>\n",
       "      <td>Toei Animation</td>\n",
       "      <td>825</td>\n",
       "    </tr>\n",
       "    <tr>\n",
       "      <th>1</th>\n",
       "      <td>Sunrise</td>\n",
       "      <td>517</td>\n",
       "    </tr>\n",
       "    <tr>\n",
       "      <th>2</th>\n",
       "      <td>J.C.Staff</td>\n",
       "      <td>407</td>\n",
       "    </tr>\n",
       "    <tr>\n",
       "      <th>3</th>\n",
       "      <td>Madhouse</td>\n",
       "      <td>360</td>\n",
       "    </tr>\n",
       "    <tr>\n",
       "      <th>4</th>\n",
       "      <td>TMS Entertainment</td>\n",
       "      <td>338</td>\n",
       "    </tr>\n",
       "    <tr>\n",
       "      <th>5</th>\n",
       "      <td>Production I.G</td>\n",
       "      <td>329</td>\n",
       "    </tr>\n",
       "    <tr>\n",
       "      <th>6</th>\n",
       "      <td>Studio Deen</td>\n",
       "      <td>306</td>\n",
       "    </tr>\n",
       "    <tr>\n",
       "      <th>7</th>\n",
       "      <td>Pierrot</td>\n",
       "      <td>268</td>\n",
       "    </tr>\n",
       "    <tr>\n",
       "      <th>8</th>\n",
       "      <td>OLM</td>\n",
       "      <td>263</td>\n",
       "    </tr>\n",
       "    <tr>\n",
       "      <th>9</th>\n",
       "      <td>Shin-Ei Animation</td>\n",
       "      <td>217</td>\n",
       "    </tr>\n",
       "    <tr>\n",
       "      <th>10</th>\n",
       "      <td>A-1 Pictures</td>\n",
       "      <td>214</td>\n",
       "    </tr>\n",
       "    <tr>\n",
       "      <th>11</th>\n",
       "      <td>Nippon Animation</td>\n",
       "      <td>210</td>\n",
       "    </tr>\n",
       "    <tr>\n",
       "      <th>12</th>\n",
       "      <td>AIC</td>\n",
       "      <td>188</td>\n",
       "    </tr>\n",
       "    <tr>\n",
       "      <th>13</th>\n",
       "      <td>DLE</td>\n",
       "      <td>185</td>\n",
       "    </tr>\n",
       "    <tr>\n",
       "      <th>14</th>\n",
       "      <td>Tatsunoko Production</td>\n",
       "      <td>170</td>\n",
       "    </tr>\n",
       "  </tbody>\n",
       "</table>\n",
       "</div>"
      ],
      "text/plain": [
       "                  Studio  Count\n",
       "0         Toei Animation    825\n",
       "1                Sunrise    517\n",
       "2              J.C.Staff    407\n",
       "3               Madhouse    360\n",
       "4      TMS Entertainment    338\n",
       "5         Production I.G    329\n",
       "6            Studio Deen    306\n",
       "7                Pierrot    268\n",
       "8                    OLM    263\n",
       "9      Shin-Ei Animation    217\n",
       "10          A-1 Pictures    214\n",
       "11      Nippon Animation    210\n",
       "12                   AIC    188\n",
       "13                   DLE    185\n",
       "14  Tatsunoko Production    170"
      ]
     },
     "execution_count": 6,
     "metadata": {},
     "output_type": "execute_result"
    }
   ],
   "source": [
    "def count_studios(df, column='studios'):\n",
    "    # Create a Counter to count all studio occurrences\n",
    "    studio_counter = Counter()\n",
    "    \n",
    "    # Iterate over each row in the 'studios' column\n",
    "    for studios in df[column]:\n",
    "        # Split the string by a comma (or other delimiter) to separate studio names\n",
    "        studio_list = [studio.strip() for studio in studios.split(',')]\n",
    "        # Update the counter with the list of studios\n",
    "        studio_counter.update(studio_list)\n",
    "    \n",
    "    # Convert the Counter to a DataFrame for better visualization\n",
    "    studio_counts_df = pd.DataFrame(studio_counter.items(), columns=['Studio', 'Count']).sort_values(by='Count', ascending=False).reset_index(drop=True)\n",
    "    \n",
    "    return studio_counts_df\n",
    "\n",
    "# Apply the function to get the studio counts\n",
    "studio_counts = count_studios(df, column='studios')\n",
    "studio_counts.head(15)"
   ]
  },
  {
   "cell_type": "code",
   "execution_count": 7,
   "metadata": {},
   "outputs": [
    {
     "name": "stdout",
     "output_type": "stream",
     "text": [
      "<class 'pandas.core.frame.DataFrame'>\n",
      "RangeIndex: 13649 entries, 0 to 13648\n",
      "Data columns (total 22 columns):\n",
      " #   Column                       Non-Null Count  Dtype  \n",
      "---  ------                       --------------  -----  \n",
      " 0   anime_id                     13649 non-null  int64  \n",
      " 1   title                        13649 non-null  object \n",
      " 2   episodes                     13649 non-null  float64\n",
      " 3   studios                      13649 non-null  object \n",
      " 4   score                        13649 non-null  float64\n",
      " 5   popularity                   13649 non-null  object \n",
      " 6   rank                         13649 non-null  object \n",
      " 7   studio_toei_animation        13649 non-null  bool   \n",
      " 8   studio_sunrise               13649 non-null  bool   \n",
      " 9   studio_j.c.staff             13649 non-null  bool   \n",
      " 10  studio_madhouse              13649 non-null  bool   \n",
      " 11  studio_tms_entertainment     13649 non-null  bool   \n",
      " 12  studio_production_i.g        13649 non-null  bool   \n",
      " 13  studio_studio_deen           13649 non-null  bool   \n",
      " 14  studio_pierrot               13649 non-null  bool   \n",
      " 15  studio_olm                   13649 non-null  bool   \n",
      " 16  studio_shin-ei_animation     13649 non-null  bool   \n",
      " 17  studio_a-1_pictures          13649 non-null  bool   \n",
      " 18  studio_nippon_animation      13649 non-null  bool   \n",
      " 19  studio_aic                   13649 non-null  bool   \n",
      " 20  studio_dle                   13649 non-null  bool   \n",
      " 21  studio_tatsunoko_production  13649 non-null  bool   \n",
      "dtypes: bool(15), float64(2), int64(1), object(4)\n",
      "memory usage: 946.5+ KB\n"
     ]
    }
   ],
   "source": [
    "top_studios = [\n",
    "    \"Toei Animation\", \"Sunrise\", \"J.C.Staff\", \"Madhouse\", \n",
    "    \"TMS Entertainment\", \"Production I.G\", \"Studio Deen\", \n",
    "    \"Pierrot\", \"OLM\", \"Shin-Ei Animation\", \"A-1 Pictures\", \n",
    "    \"Nippon Animation\", \"AIC\", \"DLE\", \"Tatsunoko Production\"\n",
    "]\n",
    "\n",
    "# Create new columns for each studio and initialize them to False\n",
    "for studio in top_studios:\n",
    "    df[f'studio_{studio.replace(\" \", \"_\").lower()}'] = False\n",
    "\n",
    "# Iterate over each row in the 'studios' column to populate the one-hot encoded columns\n",
    "for index, row in df.iterrows():\n",
    "    # Split the row's studios entry by comma and strip spaces\n",
    "    studios_in_row = [studio.strip() for studio in row['studios'].split(',')]\n",
    "    \n",
    "    # Set True in the respective columns if the studio is present in the row\n",
    "    for studio in top_studios:\n",
    "        column_name = f'studio_{studio.replace(\" \", \"_\").lower()}'\n",
    "        if studio in studios_in_row:\n",
    "            df.at[index, column_name] = True\n",
    "\n",
    "df.info()"
   ]
  },
  {
   "cell_type": "code",
   "execution_count": 8,
   "metadata": {},
   "outputs": [],
   "source": [
    "df.drop(columns = 'studios', inplace = True)"
   ]
  },
  {
   "cell_type": "code",
   "execution_count": 9,
   "metadata": {},
   "outputs": [
    {
     "name": "stdout",
     "output_type": "stream",
     "text": [
      "<class 'pandas.core.frame.DataFrame'>\n",
      "RangeIndex: 13649 entries, 0 to 13648\n",
      "Data columns (total 21 columns):\n",
      " #   Column                       Non-Null Count  Dtype  \n",
      "---  ------                       --------------  -----  \n",
      " 0   anime_id                     13649 non-null  int64  \n",
      " 1   title                        13649 non-null  object \n",
      " 2   episodes                     13649 non-null  float64\n",
      " 3   score                        13649 non-null  float64\n",
      " 4   popularity                   13649 non-null  object \n",
      " 5   rank                         13649 non-null  object \n",
      " 6   studio_toei_animation        13649 non-null  bool   \n",
      " 7   studio_sunrise               13649 non-null  bool   \n",
      " 8   studio_j.c.staff             13649 non-null  bool   \n",
      " 9   studio_madhouse              13649 non-null  bool   \n",
      " 10  studio_tms_entertainment     13649 non-null  bool   \n",
      " 11  studio_production_i.g        13649 non-null  bool   \n",
      " 12  studio_studio_deen           13649 non-null  bool   \n",
      " 13  studio_pierrot               13649 non-null  bool   \n",
      " 14  studio_olm                   13649 non-null  bool   \n",
      " 15  studio_shin-ei_animation     13649 non-null  bool   \n",
      " 16  studio_a-1_pictures          13649 non-null  bool   \n",
      " 17  studio_nippon_animation      13649 non-null  bool   \n",
      " 18  studio_aic                   13649 non-null  bool   \n",
      " 19  studio_dle                   13649 non-null  bool   \n",
      " 20  studio_tatsunoko_production  13649 non-null  bool   \n",
      "dtypes: bool(15), float64(2), int64(1), object(3)\n",
      "memory usage: 839.9+ KB\n"
     ]
    }
   ],
   "source": [
    "df.info()"
   ]
  },
  {
   "cell_type": "code",
   "execution_count": 10,
   "metadata": {},
   "outputs": [],
   "source": [
    "df.to_csv('studios.csv', index = False)"
   ]
  }
 ],
 "metadata": {
  "kernelspec": {
   "display_name": ".venv",
   "language": "python",
   "name": "python3"
  },
  "language_info": {
   "codemirror_mode": {
    "name": "ipython",
    "version": 3
   },
   "file_extension": ".py",
   "mimetype": "text/x-python",
   "name": "python",
   "nbconvert_exporter": "python",
   "pygments_lexer": "ipython3",
   "version": "3.10.11"
  }
 },
 "nbformat": 4,
 "nbformat_minor": 2
}
