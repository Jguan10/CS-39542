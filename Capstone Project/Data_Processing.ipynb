{
 "cells": [
  {
   "cell_type": "code",
   "execution_count": 1,
   "metadata": {},
   "outputs": [],
   "source": [
    "import pandas as pd"
   ]
  },
  {
   "cell_type": "code",
   "execution_count": 2,
   "metadata": {},
   "outputs": [
    {
     "data": {
      "text/html": [
       "<div>\n",
       "<style scoped>\n",
       "    .dataframe tbody tr th:only-of-type {\n",
       "        vertical-align: middle;\n",
       "    }\n",
       "\n",
       "    .dataframe tbody tr th {\n",
       "        vertical-align: top;\n",
       "    }\n",
       "\n",
       "    .dataframe thead th {\n",
       "        text-align: right;\n",
       "    }\n",
       "</style>\n",
       "<table border=\"1\" class=\"dataframe\">\n",
       "  <thead>\n",
       "    <tr style=\"text-align: right;\">\n",
       "      <th></th>\n",
       "      <th>anime_id</th>\n",
       "      <th>Name</th>\n",
       "      <th>English name</th>\n",
       "      <th>Other name</th>\n",
       "      <th>Score</th>\n",
       "      <th>Genres</th>\n",
       "      <th>Synopsis</th>\n",
       "      <th>Type</th>\n",
       "      <th>Episodes</th>\n",
       "      <th>Aired</th>\n",
       "      <th>...</th>\n",
       "      <th>Studios</th>\n",
       "      <th>Source</th>\n",
       "      <th>Duration</th>\n",
       "      <th>Rating</th>\n",
       "      <th>Rank</th>\n",
       "      <th>Popularity</th>\n",
       "      <th>Favorites</th>\n",
       "      <th>Scored By</th>\n",
       "      <th>Members</th>\n",
       "      <th>Image URL</th>\n",
       "    </tr>\n",
       "  </thead>\n",
       "  <tbody>\n",
       "    <tr>\n",
       "      <th>0</th>\n",
       "      <td>1</td>\n",
       "      <td>Cowboy Bebop</td>\n",
       "      <td>Cowboy Bebop</td>\n",
       "      <td>カウボーイビバップ</td>\n",
       "      <td>8.75</td>\n",
       "      <td>Action, Award Winning, Sci-Fi</td>\n",
       "      <td>Crime is timeless. By the year 2071, humanity ...</td>\n",
       "      <td>TV</td>\n",
       "      <td>26.0</td>\n",
       "      <td>Apr 3, 1998 to Apr 24, 1999</td>\n",
       "      <td>...</td>\n",
       "      <td>Sunrise</td>\n",
       "      <td>Original</td>\n",
       "      <td>24 min per ep</td>\n",
       "      <td>R - 17+ (violence &amp; profanity)</td>\n",
       "      <td>41.0</td>\n",
       "      <td>43</td>\n",
       "      <td>78525</td>\n",
       "      <td>914193.0</td>\n",
       "      <td>1771505</td>\n",
       "      <td>https://cdn.myanimelist.net/images/anime/4/196...</td>\n",
       "    </tr>\n",
       "    <tr>\n",
       "      <th>1</th>\n",
       "      <td>5</td>\n",
       "      <td>Cowboy Bebop: Tengoku no Tobira</td>\n",
       "      <td>Cowboy Bebop: The Movie</td>\n",
       "      <td>カウボーイビバップ 天国の扉</td>\n",
       "      <td>8.38</td>\n",
       "      <td>Action, Sci-Fi</td>\n",
       "      <td>Another day, another bounty—such is the life o...</td>\n",
       "      <td>Movie</td>\n",
       "      <td>1.0</td>\n",
       "      <td>Sep 1, 2001</td>\n",
       "      <td>...</td>\n",
       "      <td>Bones</td>\n",
       "      <td>Original</td>\n",
       "      <td>1 hr 55 min</td>\n",
       "      <td>R - 17+ (violence &amp; profanity)</td>\n",
       "      <td>189.0</td>\n",
       "      <td>602</td>\n",
       "      <td>1448</td>\n",
       "      <td>206248.0</td>\n",
       "      <td>360978</td>\n",
       "      <td>https://cdn.myanimelist.net/images/anime/1439/...</td>\n",
       "    </tr>\n",
       "    <tr>\n",
       "      <th>2</th>\n",
       "      <td>6</td>\n",
       "      <td>Trigun</td>\n",
       "      <td>Trigun</td>\n",
       "      <td>トライガン</td>\n",
       "      <td>8.22</td>\n",
       "      <td>Action, Adventure, Sci-Fi</td>\n",
       "      <td>Vash the Stampede is the man with a $$60,000,0...</td>\n",
       "      <td>TV</td>\n",
       "      <td>26.0</td>\n",
       "      <td>Apr 1, 1998 to Sep 30, 1998</td>\n",
       "      <td>...</td>\n",
       "      <td>Madhouse</td>\n",
       "      <td>Manga</td>\n",
       "      <td>24 min per ep</td>\n",
       "      <td>PG-13 - Teens 13 or older</td>\n",
       "      <td>328.0</td>\n",
       "      <td>246</td>\n",
       "      <td>15035</td>\n",
       "      <td>356739.0</td>\n",
       "      <td>727252</td>\n",
       "      <td>https://cdn.myanimelist.net/images/anime/7/203...</td>\n",
       "    </tr>\n",
       "    <tr>\n",
       "      <th>3</th>\n",
       "      <td>7</td>\n",
       "      <td>Witch Hunter Robin</td>\n",
       "      <td>Witch Hunter Robin</td>\n",
       "      <td>Witch Hunter ROBIN (ウイッチハンターロビン)</td>\n",
       "      <td>7.25</td>\n",
       "      <td>Action, Drama, Mystery, Supernatural</td>\n",
       "      <td>Robin Sena is a powerful craft user drafted in...</td>\n",
       "      <td>TV</td>\n",
       "      <td>26.0</td>\n",
       "      <td>Jul 3, 2002 to Dec 25, 2002</td>\n",
       "      <td>...</td>\n",
       "      <td>Sunrise</td>\n",
       "      <td>Original</td>\n",
       "      <td>25 min per ep</td>\n",
       "      <td>PG-13 - Teens 13 or older</td>\n",
       "      <td>2764.0</td>\n",
       "      <td>1795</td>\n",
       "      <td>613</td>\n",
       "      <td>42829.0</td>\n",
       "      <td>111931</td>\n",
       "      <td>https://cdn.myanimelist.net/images/anime/10/19...</td>\n",
       "    </tr>\n",
       "    <tr>\n",
       "      <th>4</th>\n",
       "      <td>8</td>\n",
       "      <td>Bouken Ou Beet</td>\n",
       "      <td>Beet the Vandel Buster</td>\n",
       "      <td>冒険王ビィト</td>\n",
       "      <td>6.94</td>\n",
       "      <td>Adventure, Fantasy, Supernatural</td>\n",
       "      <td>It is the dark century and the people are suff...</td>\n",
       "      <td>TV</td>\n",
       "      <td>52.0</td>\n",
       "      <td>Sep 30, 2004 to Sep 29, 2005</td>\n",
       "      <td>...</td>\n",
       "      <td>Toei Animation</td>\n",
       "      <td>Manga</td>\n",
       "      <td>23 min per ep</td>\n",
       "      <td>PG - Children</td>\n",
       "      <td>4240.0</td>\n",
       "      <td>5126</td>\n",
       "      <td>14</td>\n",
       "      <td>6413.0</td>\n",
       "      <td>15001</td>\n",
       "      <td>https://cdn.myanimelist.net/images/anime/7/215...</td>\n",
       "    </tr>\n",
       "    <tr>\n",
       "      <th>5</th>\n",
       "      <td>15</td>\n",
       "      <td>Eyeshield 21</td>\n",
       "      <td>UNKNOWN</td>\n",
       "      <td>アイシールド21</td>\n",
       "      <td>7.92</td>\n",
       "      <td>Sports</td>\n",
       "      <td>Shy, reserved, and small-statured, Deimon High...</td>\n",
       "      <td>TV</td>\n",
       "      <td>145.0</td>\n",
       "      <td>Apr 6, 2005 to Mar 19, 2008</td>\n",
       "      <td>...</td>\n",
       "      <td>Gallop</td>\n",
       "      <td>Manga</td>\n",
       "      <td>23 min per ep</td>\n",
       "      <td>PG-13 - Teens 13 or older</td>\n",
       "      <td>688.0</td>\n",
       "      <td>1252</td>\n",
       "      <td>1997</td>\n",
       "      <td>86524.0</td>\n",
       "      <td>177688</td>\n",
       "      <td>https://cdn.myanimelist.net/images/anime/1079/...</td>\n",
       "    </tr>\n",
       "    <tr>\n",
       "      <th>6</th>\n",
       "      <td>16</td>\n",
       "      <td>Hachimitsu to Clover</td>\n",
       "      <td>Honey and Clover</td>\n",
       "      <td>ハチミツとクローバー</td>\n",
       "      <td>8.0</td>\n",
       "      <td>Comedy, Drama, Romance</td>\n",
       "      <td>Yuuta Takemoto, a sophomore at an arts college...</td>\n",
       "      <td>TV</td>\n",
       "      <td>24.0</td>\n",
       "      <td>Apr 15, 2005 to Sep 27, 2005</td>\n",
       "      <td>...</td>\n",
       "      <td>J.C.Staff</td>\n",
       "      <td>Manga</td>\n",
       "      <td>23 min per ep</td>\n",
       "      <td>PG-13 - Teens 13 or older</td>\n",
       "      <td>589.0</td>\n",
       "      <td>862</td>\n",
       "      <td>4136</td>\n",
       "      <td>81747.0</td>\n",
       "      <td>260166</td>\n",
       "      <td>https://cdn.myanimelist.net/images/anime/1301/...</td>\n",
       "    </tr>\n",
       "    <tr>\n",
       "      <th>7</th>\n",
       "      <td>17</td>\n",
       "      <td>Hungry Heart: Wild Striker</td>\n",
       "      <td>UNKNOWN</td>\n",
       "      <td>ハングリーハート Wild Striker</td>\n",
       "      <td>7.55</td>\n",
       "      <td>Comedy, Slice of Life, Sports</td>\n",
       "      <td>As the younger brother of Japanese soccer star...</td>\n",
       "      <td>TV</td>\n",
       "      <td>52.0</td>\n",
       "      <td>Sep 11, 2002 to Sep 10, 2003</td>\n",
       "      <td>...</td>\n",
       "      <td>Nippon Animation</td>\n",
       "      <td>Manga</td>\n",
       "      <td>23 min per ep</td>\n",
       "      <td>PG-13 - Teens 13 or older</td>\n",
       "      <td>1551.0</td>\n",
       "      <td>4212</td>\n",
       "      <td>237</td>\n",
       "      <td>12960.0</td>\n",
       "      <td>24172</td>\n",
       "      <td>https://cdn.myanimelist.net/images/anime/12/49...</td>\n",
       "    </tr>\n",
       "    <tr>\n",
       "      <th>8</th>\n",
       "      <td>18</td>\n",
       "      <td>Initial D Fourth Stage</td>\n",
       "      <td>UNKNOWN</td>\n",
       "      <td>頭文字〈イニシャル〉D FOURTH STAGE</td>\n",
       "      <td>8.16</td>\n",
       "      <td>Action, Drama</td>\n",
       "      <td>Takumi Fujiwara finally joins Ryousuke and Kei...</td>\n",
       "      <td>TV</td>\n",
       "      <td>24.0</td>\n",
       "      <td>Apr 17, 2004 to Feb 18, 2006</td>\n",
       "      <td>...</td>\n",
       "      <td>A.C.G.T.</td>\n",
       "      <td>Manga</td>\n",
       "      <td>27 min per ep</td>\n",
       "      <td>PG-13 - Teens 13 or older</td>\n",
       "      <td>393.0</td>\n",
       "      <td>1273</td>\n",
       "      <td>1237</td>\n",
       "      <td>97878.0</td>\n",
       "      <td>173710</td>\n",
       "      <td>https://cdn.myanimelist.net/images/anime/9/105...</td>\n",
       "    </tr>\n",
       "    <tr>\n",
       "      <th>9</th>\n",
       "      <td>19</td>\n",
       "      <td>Monster</td>\n",
       "      <td>Monster</td>\n",
       "      <td>モンスター</td>\n",
       "      <td>8.87</td>\n",
       "      <td>Drama, Mystery, Suspense</td>\n",
       "      <td>Dr. Kenzou Tenma, an elite neurosurgeon recent...</td>\n",
       "      <td>TV</td>\n",
       "      <td>74.0</td>\n",
       "      <td>Apr 7, 2004 to Sep 28, 2005</td>\n",
       "      <td>...</td>\n",
       "      <td>Madhouse</td>\n",
       "      <td>Manga</td>\n",
       "      <td>24 min per ep</td>\n",
       "      <td>R+ - Mild Nudity</td>\n",
       "      <td>26.0</td>\n",
       "      <td>142</td>\n",
       "      <td>47235</td>\n",
       "      <td>368569.0</td>\n",
       "      <td>1013100</td>\n",
       "      <td>https://cdn.myanimelist.net/images/anime/10/18...</td>\n",
       "    </tr>\n",
       "  </tbody>\n",
       "</table>\n",
       "<p>10 rows × 24 columns</p>\n",
       "</div>"
      ],
      "text/plain": [
       "   anime_id                             Name             English name  \\\n",
       "0         1                     Cowboy Bebop             Cowboy Bebop   \n",
       "1         5  Cowboy Bebop: Tengoku no Tobira  Cowboy Bebop: The Movie   \n",
       "2         6                           Trigun                   Trigun   \n",
       "3         7               Witch Hunter Robin       Witch Hunter Robin   \n",
       "4         8                   Bouken Ou Beet   Beet the Vandel Buster   \n",
       "5        15                     Eyeshield 21                  UNKNOWN   \n",
       "6        16             Hachimitsu to Clover         Honey and Clover   \n",
       "7        17       Hungry Heart: Wild Striker                  UNKNOWN   \n",
       "8        18           Initial D Fourth Stage                  UNKNOWN   \n",
       "9        19                          Monster                  Monster   \n",
       "\n",
       "                         Other name Score  \\\n",
       "0                         カウボーイビバップ  8.75   \n",
       "1                    カウボーイビバップ 天国の扉  8.38   \n",
       "2                             トライガン  8.22   \n",
       "3  Witch Hunter ROBIN (ウイッチハンターロビン)  7.25   \n",
       "4                            冒険王ビィト  6.94   \n",
       "5                          アイシールド21  7.92   \n",
       "6                        ハチミツとクローバー   8.0   \n",
       "7             ハングリーハート Wild Striker  7.55   \n",
       "8          頭文字〈イニシャル〉D FOURTH STAGE  8.16   \n",
       "9                             モンスター  8.87   \n",
       "\n",
       "                                 Genres  \\\n",
       "0         Action, Award Winning, Sci-Fi   \n",
       "1                        Action, Sci-Fi   \n",
       "2             Action, Adventure, Sci-Fi   \n",
       "3  Action, Drama, Mystery, Supernatural   \n",
       "4      Adventure, Fantasy, Supernatural   \n",
       "5                                Sports   \n",
       "6                Comedy, Drama, Romance   \n",
       "7         Comedy, Slice of Life, Sports   \n",
       "8                         Action, Drama   \n",
       "9              Drama, Mystery, Suspense   \n",
       "\n",
       "                                            Synopsis   Type Episodes  \\\n",
       "0  Crime is timeless. By the year 2071, humanity ...     TV     26.0   \n",
       "1  Another day, another bounty—such is the life o...  Movie      1.0   \n",
       "2  Vash the Stampede is the man with a $$60,000,0...     TV     26.0   \n",
       "3  Robin Sena is a powerful craft user drafted in...     TV     26.0   \n",
       "4  It is the dark century and the people are suff...     TV     52.0   \n",
       "5  Shy, reserved, and small-statured, Deimon High...     TV    145.0   \n",
       "6  Yuuta Takemoto, a sophomore at an arts college...     TV     24.0   \n",
       "7  As the younger brother of Japanese soccer star...     TV     52.0   \n",
       "8  Takumi Fujiwara finally joins Ryousuke and Kei...     TV     24.0   \n",
       "9  Dr. Kenzou Tenma, an elite neurosurgeon recent...     TV     74.0   \n",
       "\n",
       "                          Aired  ...           Studios    Source  \\\n",
       "0   Apr 3, 1998 to Apr 24, 1999  ...           Sunrise  Original   \n",
       "1                   Sep 1, 2001  ...             Bones  Original   \n",
       "2   Apr 1, 1998 to Sep 30, 1998  ...          Madhouse     Manga   \n",
       "3   Jul 3, 2002 to Dec 25, 2002  ...           Sunrise  Original   \n",
       "4  Sep 30, 2004 to Sep 29, 2005  ...    Toei Animation     Manga   \n",
       "5   Apr 6, 2005 to Mar 19, 2008  ...            Gallop     Manga   \n",
       "6  Apr 15, 2005 to Sep 27, 2005  ...         J.C.Staff     Manga   \n",
       "7  Sep 11, 2002 to Sep 10, 2003  ...  Nippon Animation     Manga   \n",
       "8  Apr 17, 2004 to Feb 18, 2006  ...          A.C.G.T.     Manga   \n",
       "9   Apr 7, 2004 to Sep 28, 2005  ...          Madhouse     Manga   \n",
       "\n",
       "        Duration                          Rating    Rank Popularity Favorites  \\\n",
       "0  24 min per ep  R - 17+ (violence & profanity)    41.0         43     78525   \n",
       "1    1 hr 55 min  R - 17+ (violence & profanity)   189.0        602      1448   \n",
       "2  24 min per ep       PG-13 - Teens 13 or older   328.0        246     15035   \n",
       "3  25 min per ep       PG-13 - Teens 13 or older  2764.0       1795       613   \n",
       "4  23 min per ep                   PG - Children  4240.0       5126        14   \n",
       "5  23 min per ep       PG-13 - Teens 13 or older   688.0       1252      1997   \n",
       "6  23 min per ep       PG-13 - Teens 13 or older   589.0        862      4136   \n",
       "7  23 min per ep       PG-13 - Teens 13 or older  1551.0       4212       237   \n",
       "8  27 min per ep       PG-13 - Teens 13 or older   393.0       1273      1237   \n",
       "9  24 min per ep                R+ - Mild Nudity    26.0        142     47235   \n",
       "\n",
       "  Scored By  Members                                          Image URL  \n",
       "0  914193.0  1771505  https://cdn.myanimelist.net/images/anime/4/196...  \n",
       "1  206248.0   360978  https://cdn.myanimelist.net/images/anime/1439/...  \n",
       "2  356739.0   727252  https://cdn.myanimelist.net/images/anime/7/203...  \n",
       "3   42829.0   111931  https://cdn.myanimelist.net/images/anime/10/19...  \n",
       "4    6413.0    15001  https://cdn.myanimelist.net/images/anime/7/215...  \n",
       "5   86524.0   177688  https://cdn.myanimelist.net/images/anime/1079/...  \n",
       "6   81747.0   260166  https://cdn.myanimelist.net/images/anime/1301/...  \n",
       "7   12960.0    24172  https://cdn.myanimelist.net/images/anime/12/49...  \n",
       "8   97878.0   173710  https://cdn.myanimelist.net/images/anime/9/105...  \n",
       "9  368569.0  1013100  https://cdn.myanimelist.net/images/anime/10/18...  \n",
       "\n",
       "[10 rows x 24 columns]"
      ]
     },
     "execution_count": 2,
     "metadata": {},
     "output_type": "execute_result"
    }
   ],
   "source": [
    "df = pd.read_csv('Data/anime-dataset-2023.csv')\n",
    "df.head(10)"
   ]
  },
  {
   "cell_type": "code",
   "execution_count": 3,
   "metadata": {},
   "outputs": [
    {
     "name": "stdout",
     "output_type": "stream",
     "text": [
      "<class 'pandas.core.frame.DataFrame'>\n",
      "RangeIndex: 24905 entries, 0 to 24904\n",
      "Data columns (total 24 columns):\n",
      " #   Column        Non-Null Count  Dtype \n",
      "---  ------        --------------  ----- \n",
      " 0   anime_id      24905 non-null  int64 \n",
      " 1   Name          24905 non-null  object\n",
      " 2   English name  24905 non-null  object\n",
      " 3   Other name    24905 non-null  object\n",
      " 4   Score         24905 non-null  object\n",
      " 5   Genres        24905 non-null  object\n",
      " 6   Synopsis      24905 non-null  object\n",
      " 7   Type          24905 non-null  object\n",
      " 8   Episodes      24905 non-null  object\n",
      " 9   Aired         24905 non-null  object\n",
      " 10  Premiered     24905 non-null  object\n",
      " 11  Status        24905 non-null  object\n",
      " 12  Producers     24905 non-null  object\n",
      " 13  Licensors     24905 non-null  object\n",
      " 14  Studios       24905 non-null  object\n",
      " 15  Source        24905 non-null  object\n",
      " 16  Duration      24905 non-null  object\n",
      " 17  Rating        24905 non-null  object\n",
      " 18  Rank          24905 non-null  object\n",
      " 19  Popularity    24905 non-null  int64 \n",
      " 20  Favorites     24905 non-null  int64 \n",
      " 21  Scored By     24905 non-null  object\n",
      " 22  Members       24905 non-null  int64 \n",
      " 23  Image URL     24905 non-null  object\n",
      "dtypes: int64(4), object(20)\n",
      "memory usage: 4.6+ MB\n"
     ]
    }
   ],
   "source": [
    "df.info()"
   ]
  },
  {
   "cell_type": "code",
   "execution_count": 4,
   "metadata": {},
   "outputs": [
    {
     "data": {
      "text/plain": [
       "np.int64(0)"
      ]
     },
     "execution_count": 4,
     "metadata": {},
     "output_type": "execute_result"
    }
   ],
   "source": [
    "df.duplicated().sum()"
   ]
  },
  {
   "cell_type": "code",
   "execution_count": 5,
   "metadata": {},
   "outputs": [
    {
     "data": {
      "text/plain": [
       "anime_id        0\n",
       "Name            0\n",
       "English name    0\n",
       "Other name      0\n",
       "Score           0\n",
       "Genres          0\n",
       "Synopsis        0\n",
       "Type            0\n",
       "Episodes        0\n",
       "Aired           0\n",
       "Premiered       0\n",
       "Status          0\n",
       "Producers       0\n",
       "Licensors       0\n",
       "Studios         0\n",
       "Source          0\n",
       "Duration        0\n",
       "Rating          0\n",
       "Rank            0\n",
       "Popularity      0\n",
       "Favorites       0\n",
       "Scored By       0\n",
       "Members         0\n",
       "Image URL       0\n",
       "dtype: int64"
      ]
     },
     "execution_count": 5,
     "metadata": {},
     "output_type": "execute_result"
    }
   ],
   "source": [
    "df.isnull().sum()"
   ]
  },
  {
   "cell_type": "markdown",
   "metadata": {},
   "source": [
    "anime_id: Unique ID for each anime.\n",
    "Name: The name of the anime in its original language.\n",
    "English name: The English name of the anime.\n",
    "Other name: Native name or title of the anime(can be in Japanese, Chinese or Korean).\n",
    "Score: The score or rating given to the anime.\n",
    "Genres: The genres of the anime, separated by commas.\n",
    "Synopsis: A brief description or summary of the anime's plot.\n",
    "Type: The type of the anime (e.g., TV series, movie, OVA, etc.).\n",
    "Episodes: The number of episodes in the anime.\n",
    "Aired: The dates when the anime was aired.\n",
    "Premiered: The season and year when the anime premiered.\n",
    "Status: The status of the anime (e.g., Finished Airing, Currently Airing, etc.).\n",
    "Producers: The production companies or producers of the anime.\n",
    "Licensors: The licensors of the anime (e.g., streaming platforms).\n",
    "Studios: The animation studios that worked on the anime.\n",
    "Source: The source material of the anime (e.g., manga, light novel, original).\n",
    "Duration: The duration of each episode.\n",
    "Rating: The age rating of the anime.\n",
    "Rank: The rank of the anime based on popularity or other criteria.\n",
    "Popularity: The popularity rank of the anime.\n",
    "Favorites: The number of times the anime was marked as a favorite by users.\n",
    "Scored By: The number of users who scored the anime.\n",
    "Members: The number of members who have added the anime to their list on the platform.\n",
    "Image URL: The URL of the anime's image or poster."
   ]
  },
  {
   "cell_type": "code",
   "execution_count": 6,
   "metadata": {},
   "outputs": [],
   "source": [
    "df = df.drop(columns = [\"Image URL\", \"Scored By\", \"Duration\", \"Status\", \"Aired\", \"Other name\"]) "
   ]
  },
  {
   "cell_type": "markdown",
   "metadata": {},
   "source": [
    "Dropping Image URL because its not useable, scored by is a metric that is unhelpful in comparison to rating, rank, popularity\n",
    "Duration is not data that we may have access to nor is it always consistent \n",
    "Status doesn't matter as we are predicting the score it will have \n",
    "Air date should not be a feature as this model would be used to predict the score of new anime\n",
    "Other name is not processable as its in another language"
   ]
  },
  {
   "cell_type": "code",
   "execution_count": 7,
   "metadata": {},
   "outputs": [
    {
     "data": {
      "text/plain": [
       "Type\n",
       "TV         7597\n",
       "Movie      4381\n",
       "OVA        4076\n",
       "ONA        3533\n",
       "Music      2686\n",
       "Special    2558\n",
       "UNKNOWN      74\n",
       "Name: count, dtype: int64"
      ]
     },
     "execution_count": 7,
     "metadata": {},
     "output_type": "execute_result"
    }
   ],
   "source": [
    "df[\"Type\"].value_counts()"
   ]
  },
  {
   "cell_type": "code",
   "execution_count": 8,
   "metadata": {},
   "outputs": [
    {
     "name": "stdout",
     "output_type": "stream",
     "text": [
      "<class 'pandas.core.frame.DataFrame'>\n",
      "Index: 11978 entries, 0 to 24886\n",
      "Data columns (total 18 columns):\n",
      " #   Column        Non-Null Count  Dtype \n",
      "---  ------        --------------  ----- \n",
      " 0   anime_id      11978 non-null  int64 \n",
      " 1   Name          11978 non-null  object\n",
      " 2   English name  11978 non-null  object\n",
      " 3   Score         11978 non-null  object\n",
      " 4   Genres        11978 non-null  object\n",
      " 5   Synopsis      11978 non-null  object\n",
      " 6   Type          11978 non-null  object\n",
      " 7   Episodes      11978 non-null  object\n",
      " 8   Premiered     11978 non-null  object\n",
      " 9   Producers     11978 non-null  object\n",
      " 10  Licensors     11978 non-null  object\n",
      " 11  Studios       11978 non-null  object\n",
      " 12  Source        11978 non-null  object\n",
      " 13  Rating        11978 non-null  object\n",
      " 14  Rank          11978 non-null  object\n",
      " 15  Popularity    11978 non-null  int64 \n",
      " 16  Favorites     11978 non-null  int64 \n",
      " 17  Members       11978 non-null  int64 \n",
      "dtypes: int64(4), object(14)\n",
      "memory usage: 1.7+ MB\n"
     ]
    }
   ],
   "source": [
    "drop_values = [\"OVA\", \"ONA\", \"Music\", \"Special\", \"UNKNOWN\"]\n",
    "df = df[~df[\"Type\"].isin(drop_values)]\n",
    "df.info()"
   ]
  },
  {
   "cell_type": "code",
   "execution_count": 9,
   "metadata": {},
   "outputs": [
    {
     "data": {
      "text/plain": [
       "Type\n",
       "TV       7597\n",
       "Movie    4381\n",
       "Name: count, dtype: int64"
      ]
     },
     "execution_count": 9,
     "metadata": {},
     "output_type": "execute_result"
    }
   ],
   "source": [
    "df[\"Type\"].value_counts()"
   ]
  },
  {
   "cell_type": "code",
   "execution_count": 10,
   "metadata": {},
   "outputs": [
    {
     "data": {
      "text/plain": [
       "Premiered\n",
       "UNKNOWN        6472\n",
       "spring 2017      88\n",
       "fall 2016        83\n",
       "spring 2018      81\n",
       "spring 2016      78\n",
       "               ... \n",
       "summer 1962       1\n",
       "summer 1993       1\n",
       "summer 2024       1\n",
       "winter 2025       1\n",
       "summer 2025       1\n",
       "Name: count, Length: 244, dtype: int64"
      ]
     },
     "execution_count": 10,
     "metadata": {},
     "output_type": "execute_result"
    }
   ],
   "source": [
    "df[\"Premiered\"].value_counts()"
   ]
  },
  {
   "cell_type": "code",
   "execution_count": 11,
   "metadata": {},
   "outputs": [],
   "source": [
    "# More than 50% of the data is UNKNOWN\n",
    "df = df.drop(columns = [\"Premiered\"]) "
   ]
  },
  {
   "cell_type": "code",
   "execution_count": 12,
   "metadata": {},
   "outputs": [
    {
     "name": "stdout",
     "output_type": "stream",
     "text": [
      "<class 'pandas.core.frame.DataFrame'>\n",
      "Index: 11978 entries, 0 to 24886\n",
      "Data columns (total 17 columns):\n",
      " #   Column        Non-Null Count  Dtype \n",
      "---  ------        --------------  ----- \n",
      " 0   anime_id      11978 non-null  int64 \n",
      " 1   Name          11978 non-null  object\n",
      " 2   English name  11978 non-null  object\n",
      " 3   Score         11978 non-null  object\n",
      " 4   Genres        11978 non-null  object\n",
      " 5   Synopsis      11978 non-null  object\n",
      " 6   Type          11978 non-null  object\n",
      " 7   Episodes      11978 non-null  object\n",
      " 8   Producers     11978 non-null  object\n",
      " 9   Licensors     11978 non-null  object\n",
      " 10  Studios       11978 non-null  object\n",
      " 11  Source        11978 non-null  object\n",
      " 12  Rating        11978 non-null  object\n",
      " 13  Rank          11978 non-null  object\n",
      " 14  Popularity    11978 non-null  int64 \n",
      " 15  Favorites     11978 non-null  int64 \n",
      " 16  Members       11978 non-null  int64 \n",
      "dtypes: int64(4), object(13)\n",
      "memory usage: 1.6+ MB\n"
     ]
    }
   ],
   "source": [
    "df.info()"
   ]
  },
  {
   "cell_type": "code",
   "execution_count": 13,
   "metadata": {},
   "outputs": [
    {
     "data": {
      "text/plain": [
       "Source\n",
       "Original        4767\n",
       "Manga           2272\n",
       "Unknown         1971\n",
       "Light novel      575\n",
       "Other            544\n",
       "Game             481\n",
       "Novel            344\n",
       "Web manga        189\n",
       "Visual novel     185\n",
       "4-koma manga     178\n",
       "Book             155\n",
       "Picture book     133\n",
       "Mixed media       96\n",
       "Card game         50\n",
       "Music             29\n",
       "Radio              7\n",
       "Web novel          2\n",
       "Name: count, dtype: int64"
      ]
     },
     "execution_count": 13,
     "metadata": {},
     "output_type": "execute_result"
    }
   ],
   "source": [
    "df[\"Source\"].value_counts()"
   ]
  },
  {
   "cell_type": "code",
   "execution_count": 14,
   "metadata": {},
   "outputs": [],
   "source": [
    "df[\"Source\"] = df[\"Source\"].replace({\n",
    "    \"Other\" : \"Unknown\",\n",
    "    \"Mixed media\": \"Unknown\",\n",
    "    \"Picture book\" : \"Book\",\n",
    "    \"Web manga\" : \"Manga\",\n",
    "    \"4-koma manga\" : \"Manga\",\n",
    "    \"Web novel\" : \"Novel\",\n",
    "    \"Card game\" : \"Game\",\n",
    "    \"Radio\" : \"Unknown\",\n",
    "    \"Music\" : \"Unknown\"\n",
    "})\n"
   ]
  },
  {
   "cell_type": "code",
   "execution_count": 15,
   "metadata": {},
   "outputs": [
    {
     "data": {
      "text/plain": [
       "Source\n",
       "Original        4767\n",
       "Unknown         2647\n",
       "Manga           2639\n",
       "Light novel      575\n",
       "Game             531\n",
       "Novel            346\n",
       "Book             288\n",
       "Visual novel     185\n",
       "Name: count, dtype: int64"
      ]
     },
     "execution_count": 15,
     "metadata": {},
     "output_type": "execute_result"
    }
   ],
   "source": [
    "df[\"Source\"].value_counts()"
   ]
  },
  {
   "cell_type": "code",
   "execution_count": 16,
   "metadata": {},
   "outputs": [],
   "source": [
    "df = pd.get_dummies(df, columns = [\"Source\", \"Type\"])"
   ]
  },
  {
   "cell_type": "code",
   "execution_count": 17,
   "metadata": {},
   "outputs": [
    {
     "name": "stdout",
     "output_type": "stream",
     "text": [
      "<class 'pandas.core.frame.DataFrame'>\n",
      "Index: 11978 entries, 0 to 24886\n",
      "Data columns (total 25 columns):\n",
      " #   Column               Non-Null Count  Dtype \n",
      "---  ------               --------------  ----- \n",
      " 0   anime_id             11978 non-null  int64 \n",
      " 1   Name                 11978 non-null  object\n",
      " 2   English name         11978 non-null  object\n",
      " 3   Score                11978 non-null  object\n",
      " 4   Genres               11978 non-null  object\n",
      " 5   Synopsis             11978 non-null  object\n",
      " 6   Episodes             11978 non-null  object\n",
      " 7   Producers            11978 non-null  object\n",
      " 8   Licensors            11978 non-null  object\n",
      " 9   Studios              11978 non-null  object\n",
      " 10  Rating               11978 non-null  object\n",
      " 11  Rank                 11978 non-null  object\n",
      " 12  Popularity           11978 non-null  int64 \n",
      " 13  Favorites            11978 non-null  int64 \n",
      " 14  Members              11978 non-null  int64 \n",
      " 15  Source_Book          11978 non-null  bool  \n",
      " 16  Source_Game          11978 non-null  bool  \n",
      " 17  Source_Light novel   11978 non-null  bool  \n",
      " 18  Source_Manga         11978 non-null  bool  \n",
      " 19  Source_Novel         11978 non-null  bool  \n",
      " 20  Source_Original      11978 non-null  bool  \n",
      " 21  Source_Unknown       11978 non-null  bool  \n",
      " 22  Source_Visual novel  11978 non-null  bool  \n",
      " 23  Type_Movie           11978 non-null  bool  \n",
      " 24  Type_TV              11978 non-null  bool  \n",
      "dtypes: bool(10), int64(4), object(11)\n",
      "memory usage: 1.6+ MB\n"
     ]
    }
   ],
   "source": [
    "df.info()"
   ]
  },
  {
   "cell_type": "code",
   "execution_count": 18,
   "metadata": {},
   "outputs": [],
   "source": [
    "df.to_csv(\"Anime_Processed.csv\", index = False)"
   ]
  }
 ],
 "metadata": {
  "kernelspec": {
   "display_name": "Python 3",
   "language": "python",
   "name": "python3"
  },
  "language_info": {
   "codemirror_mode": {
    "name": "ipython",
    "version": 3
   },
   "file_extension": ".py",
   "mimetype": "text/x-python",
   "name": "python",
   "nbconvert_exporter": "python",
   "pygments_lexer": "ipython3",
   "version": "3.10.11"
  }
 },
 "nbformat": 4,
 "nbformat_minor": 2
}
