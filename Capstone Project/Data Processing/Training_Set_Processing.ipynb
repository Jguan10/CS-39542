{
 "cells": [
  {
   "cell_type": "markdown",
   "metadata": {},
   "source": []
  },
  {
   "cell_type": "code",
   "execution_count": 38,
   "metadata": {},
   "outputs": [],
   "source": [
    "import pandas as pd"
   ]
  },
  {
   "cell_type": "code",
   "execution_count": 39,
   "metadata": {},
   "outputs": [
    {
     "name": "stdout",
     "output_type": "stream",
     "text": [
      "<class 'pandas.core.frame.DataFrame'>\n",
      "RangeIndex: 20140 entries, 0 to 20139\n",
      "Data columns (total 40 columns):\n",
      " #   Column                Non-Null Count  Dtype  \n",
      "---  ------                --------------  -----  \n",
      " 0   anime_id              20140 non-null  int64  \n",
      " 1   title                 20140 non-null  object \n",
      " 2   episodes              20140 non-null  float64\n",
      " 3   synopsis              17030 non-null  object \n",
      " 4   score                 20140 non-null  float64\n",
      " 5   Popularity_category   20140 non-null  object \n",
      " 6   Rank_category         20140 non-null  object \n",
      " 7   Genres_Action         20140 non-null  bool   \n",
      " 8   Genres_Adventure      20140 non-null  bool   \n",
      " 9   Genres_Avant Garde    20140 non-null  bool   \n",
      " 10  Genres_Award Winning  20140 non-null  bool   \n",
      " 11  Genres_Boys Love      20140 non-null  bool   \n",
      " 12  Genres_Comedy         20140 non-null  bool   \n",
      " 13  Genres_Drama          20140 non-null  bool   \n",
      " 14  Genres_Ecchi          20140 non-null  bool   \n",
      " 15  Genres_Erotica        20140 non-null  bool   \n",
      " 16  Genres_Fantasy        20140 non-null  bool   \n",
      " 17  Genres_Girls Love     20140 non-null  bool   \n",
      " 18  Genres_Gourmet        20140 non-null  bool   \n",
      " 19  Genres_Hentai         20140 non-null  bool   \n",
      " 20  Genres_Horror         20140 non-null  bool   \n",
      " 21  Genres_Mystery        20140 non-null  bool   \n",
      " 22  Genres_Romance        20140 non-null  bool   \n",
      " 23  Genres_Sci-Fi         20140 non-null  bool   \n",
      " 24  Genres_Slice of Life  20140 non-null  bool   \n",
      " 25  Genres_Sports         20140 non-null  bool   \n",
      " 26  Genres_Supernatural   20140 non-null  bool   \n",
      " 27  Genres_Suspense       20140 non-null  bool   \n",
      " 28  Types_Movie           20140 non-null  bool   \n",
      " 29  Types_Music           20140 non-null  bool   \n",
      " 30  Types_ONA             20140 non-null  bool   \n",
      " 31  Types_OVA             20140 non-null  bool   \n",
      " 32  Types_Special         20140 non-null  bool   \n",
      " 33  Types_TV              20140 non-null  bool   \n",
      " 34  Source_Book           20140 non-null  bool   \n",
      " 35  Source_Game           20140 non-null  bool   \n",
      " 36  Source_Light novel    20140 non-null  bool   \n",
      " 37  Source_Manga          20140 non-null  bool   \n",
      " 38  Source_Original       20140 non-null  bool   \n",
      " 39  Source_Visual novel   20140 non-null  bool   \n",
      "dtypes: bool(33), float64(2), int64(1), object(4)\n",
      "memory usage: 1.7+ MB\n"
     ]
    }
   ],
   "source": [
    "df1 = pd.read_csv('Data/genres_synopsis_type.csv')\n",
    "df1.info()"
   ]
  },
  {
   "cell_type": "code",
   "execution_count": 40,
   "metadata": {},
   "outputs": [
    {
     "name": "stdout",
     "output_type": "stream",
     "text": [
      "<class 'pandas.core.frame.DataFrame'>\n",
      "RangeIndex: 26720 entries, 0 to 26719\n",
      "Data columns (total 36 columns):\n",
      " #   Column           Non-Null Count  Dtype  \n",
      "---  ------           --------------  -----  \n",
      " 0   mal_id           26720 non-null  int64  \n",
      " 1   url              26720 non-null  object \n",
      " 2   images           26720 non-null  object \n",
      " 3   trailer          26720 non-null  object \n",
      " 4   approved         26720 non-null  bool   \n",
      " 5   titles           26720 non-null  object \n",
      " 6   title            26720 non-null  object \n",
      " 7   title_english    11244 non-null  object \n",
      " 8   title_japanese   26623 non-null  object \n",
      " 9   title_synonyms   26720 non-null  object \n",
      " 10  type             26652 non-null  object \n",
      " 11  source           26720 non-null  object \n",
      " 12  episodes         26106 non-null  float64\n",
      " 13  status           26720 non-null  object \n",
      " 14  airing           26720 non-null  bool   \n",
      " 15  aired            26720 non-null  object \n",
      " 16  duration         26720 non-null  object \n",
      " 17  rating           26164 non-null  object \n",
      " 18  score            17304 non-null  float64\n",
      " 19  scored_by        17304 non-null  float64\n",
      " 20  rank             20722 non-null  float64\n",
      " 21  popularity       26720 non-null  int64  \n",
      " 22  members          26720 non-null  int64  \n",
      " 23  favorites        26720 non-null  int64  \n",
      " 24  synopsis         21915 non-null  object \n",
      " 25  background       2631 non-null   object \n",
      " 26  season           5845 non-null   object \n",
      " 27  year             5845 non-null   float64\n",
      " 28  broadcast        26720 non-null  object \n",
      " 29  producers        26720 non-null  object \n",
      " 30  licensors        26720 non-null  object \n",
      " 31  studios          26720 non-null  object \n",
      " 32  genres           26720 non-null  object \n",
      " 33  explicit_genres  26720 non-null  object \n",
      " 34  themes           26720 non-null  object \n",
      " 35  demographics     26720 non-null  object \n",
      "dtypes: bool(2), float64(5), int64(4), object(25)\n",
      "memory usage: 7.0+ MB\n"
     ]
    }
   ],
   "source": [
    "df2 = pd.read_csv('Data/jikan_final.csv')\n",
    "df2.info()"
   ]
  },
  {
   "cell_type": "code",
   "execution_count": 41,
   "metadata": {},
   "outputs": [],
   "source": [
    "df2 = df2[['mal_id', 'rank', 'popularity', 'studios']]"
   ]
  },
  {
   "cell_type": "code",
   "execution_count": 42,
   "metadata": {},
   "outputs": [
    {
     "name": "stdout",
     "output_type": "stream",
     "text": [
      "<class 'pandas.core.frame.DataFrame'>\n",
      "RangeIndex: 20216 entries, 0 to 20215\n",
      "Data columns (total 44 columns):\n",
      " #   Column                Non-Null Count  Dtype  \n",
      "---  ------                --------------  -----  \n",
      " 0   anime_id              20216 non-null  int64  \n",
      " 1   title                 20216 non-null  object \n",
      " 2   episodes              20216 non-null  float64\n",
      " 3   synopsis              17078 non-null  object \n",
      " 4   score                 20216 non-null  float64\n",
      " 5   Popularity_category   20216 non-null  object \n",
      " 6   Rank_category         20216 non-null  object \n",
      " 7   Genres_Action         20216 non-null  bool   \n",
      " 8   Genres_Adventure      20216 non-null  bool   \n",
      " 9   Genres_Avant Garde    20216 non-null  bool   \n",
      " 10  Genres_Award Winning  20216 non-null  bool   \n",
      " 11  Genres_Boys Love      20216 non-null  bool   \n",
      " 12  Genres_Comedy         20216 non-null  bool   \n",
      " 13  Genres_Drama          20216 non-null  bool   \n",
      " 14  Genres_Ecchi          20216 non-null  bool   \n",
      " 15  Genres_Erotica        20216 non-null  bool   \n",
      " 16  Genres_Fantasy        20216 non-null  bool   \n",
      " 17  Genres_Girls Love     20216 non-null  bool   \n",
      " 18  Genres_Gourmet        20216 non-null  bool   \n",
      " 19  Genres_Hentai         20216 non-null  bool   \n",
      " 20  Genres_Horror         20216 non-null  bool   \n",
      " 21  Genres_Mystery        20216 non-null  bool   \n",
      " 22  Genres_Romance        20216 non-null  bool   \n",
      " 23  Genres_Sci-Fi         20216 non-null  bool   \n",
      " 24  Genres_Slice of Life  20216 non-null  bool   \n",
      " 25  Genres_Sports         20216 non-null  bool   \n",
      " 26  Genres_Supernatural   20216 non-null  bool   \n",
      " 27  Genres_Suspense       20216 non-null  bool   \n",
      " 28  Types_Movie           20216 non-null  bool   \n",
      " 29  Types_Music           20216 non-null  bool   \n",
      " 30  Types_ONA             20216 non-null  bool   \n",
      " 31  Types_OVA             20216 non-null  bool   \n",
      " 32  Types_Special         20216 non-null  bool   \n",
      " 33  Types_TV              20216 non-null  bool   \n",
      " 34  Source_Book           20216 non-null  bool   \n",
      " 35  Source_Game           20216 non-null  bool   \n",
      " 36  Source_Light novel    20216 non-null  bool   \n",
      " 37  Source_Manga          20216 non-null  bool   \n",
      " 38  Source_Original       20216 non-null  bool   \n",
      " 39  Source_Visual novel   20216 non-null  bool   \n",
      " 40  mal_id                20216 non-null  int64  \n",
      " 41  rank                  17788 non-null  float64\n",
      " 42  popularity            20216 non-null  int64  \n",
      " 43  studios               20216 non-null  object \n",
      "dtypes: bool(33), float64(3), int64(3), object(5)\n",
      "memory usage: 2.3+ MB\n"
     ]
    }
   ],
   "source": [
    "df1 = pd.merge(df1, df2, how = 'inner', left_on = 'anime_id', right_on = 'mal_id')\n",
    "df1.info()"
   ]
  },
  {
   "cell_type": "code",
   "execution_count": 43,
   "metadata": {},
   "outputs": [],
   "source": [
    "df1.drop(columns = 'mal_id', inplace = True)"
   ]
  },
  {
   "cell_type": "code",
   "execution_count": 44,
   "metadata": {},
   "outputs": [
    {
     "name": "stdout",
     "output_type": "stream",
     "text": [
      "<class 'pandas.core.frame.DataFrame'>\n",
      "RangeIndex: 20216 entries, 0 to 20215\n",
      "Data columns (total 43 columns):\n",
      " #   Column                Non-Null Count  Dtype  \n",
      "---  ------                --------------  -----  \n",
      " 0   anime_id              20216 non-null  int64  \n",
      " 1   title                 20216 non-null  object \n",
      " 2   episodes              20216 non-null  float64\n",
      " 3   synopsis              17078 non-null  object \n",
      " 4   score                 20216 non-null  float64\n",
      " 5   Popularity_category   20216 non-null  object \n",
      " 6   Rank_category         20216 non-null  object \n",
      " 7   Genres_Action         20216 non-null  bool   \n",
      " 8   Genres_Adventure      20216 non-null  bool   \n",
      " 9   Genres_Avant Garde    20216 non-null  bool   \n",
      " 10  Genres_Award Winning  20216 non-null  bool   \n",
      " 11  Genres_Boys Love      20216 non-null  bool   \n",
      " 12  Genres_Comedy         20216 non-null  bool   \n",
      " 13  Genres_Drama          20216 non-null  bool   \n",
      " 14  Genres_Ecchi          20216 non-null  bool   \n",
      " 15  Genres_Erotica        20216 non-null  bool   \n",
      " 16  Genres_Fantasy        20216 non-null  bool   \n",
      " 17  Genres_Girls Love     20216 non-null  bool   \n",
      " 18  Genres_Gourmet        20216 non-null  bool   \n",
      " 19  Genres_Hentai         20216 non-null  bool   \n",
      " 20  Genres_Horror         20216 non-null  bool   \n",
      " 21  Genres_Mystery        20216 non-null  bool   \n",
      " 22  Genres_Romance        20216 non-null  bool   \n",
      " 23  Genres_Sci-Fi         20216 non-null  bool   \n",
      " 24  Genres_Slice of Life  20216 non-null  bool   \n",
      " 25  Genres_Sports         20216 non-null  bool   \n",
      " 26  Genres_Supernatural   20216 non-null  bool   \n",
      " 27  Genres_Suspense       20216 non-null  bool   \n",
      " 28  Types_Movie           20216 non-null  bool   \n",
      " 29  Types_Music           20216 non-null  bool   \n",
      " 30  Types_ONA             20216 non-null  bool   \n",
      " 31  Types_OVA             20216 non-null  bool   \n",
      " 32  Types_Special         20216 non-null  bool   \n",
      " 33  Types_TV              20216 non-null  bool   \n",
      " 34  Source_Book           20216 non-null  bool   \n",
      " 35  Source_Game           20216 non-null  bool   \n",
      " 36  Source_Light novel    20216 non-null  bool   \n",
      " 37  Source_Manga          20216 non-null  bool   \n",
      " 38  Source_Original       20216 non-null  bool   \n",
      " 39  Source_Visual novel   20216 non-null  bool   \n",
      " 40  rank                  17788 non-null  float64\n",
      " 41  popularity            20216 non-null  int64  \n",
      " 42  studios               20216 non-null  object \n",
      "dtypes: bool(33), float64(3), int64(2), object(5)\n",
      "memory usage: 2.2+ MB\n"
     ]
    }
   ],
   "source": [
    "df1.info()"
   ]
  },
  {
   "cell_type": "code",
   "execution_count": 45,
   "metadata": {},
   "outputs": [],
   "source": [
    "import ast\n",
    "\n",
    "def extract_names(entry):\n",
    "    dict_list = ast.literal_eval(entry)\n",
    "    return [d['name'] for d in dict_list if 'name' in d]\n",
    "\n",
    "df1['studios'] = df1['studios'].apply(extract_names)"
   ]
  },
  {
   "cell_type": "code",
   "execution_count": 47,
   "metadata": {},
   "outputs": [
    {
     "data": {
      "text/plain": [
       "0                        [Sunrise]\n",
       "1                          [Bones]\n",
       "2                       [Madhouse]\n",
       "3                        [Sunrise]\n",
       "4                 [Toei Animation]\n",
       "                   ...            \n",
       "20211                           []\n",
       "20212                      [MAPPA]\n",
       "20213                   [A.C.G.T.]\n",
       "20214           [Studio Crocodile]\n",
       "20215    [Tomoyasu Murata Company]\n",
       "Name: studios, Length: 20216, dtype: object"
      ]
     },
     "execution_count": 47,
     "metadata": {},
     "output_type": "execute_result"
    }
   ],
   "source": [
    "df1['studios']"
   ]
  },
  {
   "cell_type": "code",
   "execution_count": 49,
   "metadata": {},
   "outputs": [],
   "source": [
    "import re\n",
    "\n",
    "def clean_studios(studio):\n",
    "    cleaned_studios = re.sub(r\"[^\\w\\s.-]\", \"\", studio)\n",
    "    return cleaned_studios\n",
    "\n",
    "\n",
    "df1['studios'] = df1['studios'].apply(clean_studios)"
   ]
  },
  {
   "cell_type": "code",
   "execution_count": null,
   "metadata": {},
   "outputs": [],
   "source": [
    "top_studios = [\n",
    "    \"Toei Animation\", \"Sunrise\", \"J.C.Staff\", \"Madhouse\", \n",
    "    \"TMS Entertainment\", \"Production I.G\", \"Studio Deen\", \n",
    "    \"Pierrot\", \"OLM\", \"Shin-Ei Animation\", \"A-1 Pictures\", \n",
    "    \"Nippon Animation\", \"AIC\", \"DLE\", \"Tatsunoko Production\", \"Trigger\"\n",
    "]\n",
    "\n",
    "for studio in top_studios:\n",
    "    df1[f'studio_{studio.replace(\" \", \"_\").lower()}'] = False\n",
    "\n",
    "for index, row in df1.iterrows():\n",
    "    studios_in_row = [studios.strip() for studios in row['studios'].split(',')]\n",
    "    \n",
    "    for studio in top_studios:\n",
    "        column_name = f'studio_{studio.replace(\" \", \"_\").lower()}'\n",
    "        if studio in studios_in_row:\n",
    "            df1.at[index, column_name] = True"
   ]
  },
  {
   "cell_type": "code",
   "execution_count": 54,
   "metadata": {},
   "outputs": [],
   "source": [
    "df1.to_csv('training_set.csv', index = False)"
   ]
  },
  {
   "cell_type": "markdown",
   "metadata": {},
   "source": [
    "TFIDF vectorize"
   ]
  },
  {
   "cell_type": "code",
   "execution_count": 8,
   "metadata": {},
   "outputs": [],
   "source": [
    "import pandas as pd\n",
    "\n"
   ]
  },
  {
   "cell_type": "code",
   "execution_count": 16,
   "metadata": {},
   "outputs": [],
   "source": [
    "df = pd.read_csv('Data/training_set.csv')"
   ]
  },
  {
   "cell_type": "code",
   "execution_count": 17,
   "metadata": {},
   "outputs": [
    {
     "name": "stdout",
     "output_type": "stream",
     "text": [
      "<class 'pandas.core.frame.DataFrame'>\n",
      "RangeIndex: 20368 entries, 0 to 20367\n",
      "Columns: 209 entries, anime_id to tfidf_young\n",
      "dtypes: bool(49), float64(153), int64(2), object(5)\n",
      "memory usage: 25.8+ MB\n"
     ]
    }
   ],
   "source": [
    "df.info()"
   ]
  },
  {
   "cell_type": "code",
   "execution_count": 18,
   "metadata": {},
   "outputs": [],
   "source": [
    "from sklearn.feature_extraction.text import TfidfVectorizer\n",
    "import pickle\n",
    "import scipy.sparse"
   ]
  },
  {
   "cell_type": "code",
   "execution_count": null,
   "metadata": {},
   "outputs": [],
   "source": [
    "vectorizer = TfidfVectorizer(max_features=150,stop_words='english',ngram_range=(1,3))\n",
    "tfidf_matrix = vectorizer.fit_transform(df['synopsis'])"
   ]
  },
  {
   "cell_type": "code",
   "execution_count": 26,
   "metadata": {},
   "outputs": [
    {
     "data": {
      "text/html": [
       "<div>\n",
       "<style scoped>\n",
       "    .dataframe tbody tr th:only-of-type {\n",
       "        vertical-align: middle;\n",
       "    }\n",
       "\n",
       "    .dataframe tbody tr th {\n",
       "        vertical-align: top;\n",
       "    }\n",
       "\n",
       "    .dataframe thead th {\n",
       "        text-align: right;\n",
       "    }\n",
       "</style>\n",
       "<table border=\"1\" class=\"dataframe\">\n",
       "  <thead>\n",
       "    <tr style=\"text-align: right;\">\n",
       "      <th></th>\n",
       "      <th>anime_id</th>\n",
       "      <th>title</th>\n",
       "      <th>episodes</th>\n",
       "      <th>score</th>\n",
       "      <th>Popularity_category</th>\n",
       "      <th>Rank_category</th>\n",
       "      <th>Genres_Action</th>\n",
       "      <th>Genres_Adventure</th>\n",
       "      <th>Genres_Avant Garde</th>\n",
       "      <th>Genres_Award Winning</th>\n",
       "      <th>...</th>\n",
       "      <th>tfidf_various</th>\n",
       "      <th>tfidf_video</th>\n",
       "      <th>tfidf_video song</th>\n",
       "      <th>tfidf_want</th>\n",
       "      <th>tfidf_war</th>\n",
       "      <th>tfidf_way</th>\n",
       "      <th>tfidf_woman</th>\n",
       "      <th>tfidf_work</th>\n",
       "      <th>tfidf_world</th>\n",
       "      <th>tfidf_young</th>\n",
       "    </tr>\n",
       "  </thead>\n",
       "  <tbody>\n",
       "    <tr>\n",
       "      <th>0</th>\n",
       "      <td>1</td>\n",
       "      <td>Cowboy Bebop</td>\n",
       "      <td>26.0</td>\n",
       "      <td>9.0</td>\n",
       "      <td>Top 100</td>\n",
       "      <td>Top 100</td>\n",
       "      <td>True</td>\n",
       "      <td>False</td>\n",
       "      <td>False</td>\n",
       "      <td>False</td>\n",
       "      <td>...</td>\n",
       "      <td>0.0</td>\n",
       "      <td>0.0</td>\n",
       "      <td>0.0</td>\n",
       "      <td>0.0</td>\n",
       "      <td>0.0</td>\n",
       "      <td>0.0</td>\n",
       "      <td>0.0</td>\n",
       "      <td>0.0</td>\n",
       "      <td>0.0</td>\n",
       "      <td>0.00000</td>\n",
       "    </tr>\n",
       "    <tr>\n",
       "      <th>1</th>\n",
       "      <td>5</td>\n",
       "      <td>Cowboy Bebop: Tengoku no Tobira</td>\n",
       "      <td>1.0</td>\n",
       "      <td>8.0</td>\n",
       "      <td>Top 1,000</td>\n",
       "      <td>Top 500</td>\n",
       "      <td>True</td>\n",
       "      <td>False</td>\n",
       "      <td>False</td>\n",
       "      <td>False</td>\n",
       "      <td>...</td>\n",
       "      <td>0.0</td>\n",
       "      <td>0.0</td>\n",
       "      <td>0.0</td>\n",
       "      <td>0.0</td>\n",
       "      <td>0.0</td>\n",
       "      <td>0.0</td>\n",
       "      <td>0.0</td>\n",
       "      <td>0.0</td>\n",
       "      <td>0.0</td>\n",
       "      <td>0.00000</td>\n",
       "    </tr>\n",
       "    <tr>\n",
       "      <th>2</th>\n",
       "      <td>6</td>\n",
       "      <td>Trigun</td>\n",
       "      <td>26.0</td>\n",
       "      <td>8.0</td>\n",
       "      <td>Top 500</td>\n",
       "      <td>Top 500</td>\n",
       "      <td>True</td>\n",
       "      <td>False</td>\n",
       "      <td>False</td>\n",
       "      <td>False</td>\n",
       "      <td>...</td>\n",
       "      <td>0.0</td>\n",
       "      <td>0.0</td>\n",
       "      <td>0.0</td>\n",
       "      <td>0.0</td>\n",
       "      <td>0.0</td>\n",
       "      <td>0.0</td>\n",
       "      <td>0.0</td>\n",
       "      <td>0.0</td>\n",
       "      <td>0.0</td>\n",
       "      <td>0.00000</td>\n",
       "    </tr>\n",
       "    <tr>\n",
       "      <th>3</th>\n",
       "      <td>7</td>\n",
       "      <td>Witch Hunter Robin</td>\n",
       "      <td>26.0</td>\n",
       "      <td>7.0</td>\n",
       "      <td>Top 2,500</td>\n",
       "      <td>Top 5,000</td>\n",
       "      <td>True</td>\n",
       "      <td>False</td>\n",
       "      <td>False</td>\n",
       "      <td>False</td>\n",
       "      <td>...</td>\n",
       "      <td>0.0</td>\n",
       "      <td>0.0</td>\n",
       "      <td>0.0</td>\n",
       "      <td>0.0</td>\n",
       "      <td>0.0</td>\n",
       "      <td>0.0</td>\n",
       "      <td>0.0</td>\n",
       "      <td>0.0</td>\n",
       "      <td>0.0</td>\n",
       "      <td>0.00000</td>\n",
       "    </tr>\n",
       "    <tr>\n",
       "      <th>4</th>\n",
       "      <td>8</td>\n",
       "      <td>Bouken Ou Beet</td>\n",
       "      <td>52.0</td>\n",
       "      <td>7.0</td>\n",
       "      <td>Top 7,500</td>\n",
       "      <td>Top 5,000</td>\n",
       "      <td>True</td>\n",
       "      <td>False</td>\n",
       "      <td>False</td>\n",
       "      <td>False</td>\n",
       "      <td>...</td>\n",
       "      <td>0.0</td>\n",
       "      <td>0.0</td>\n",
       "      <td>0.0</td>\n",
       "      <td>0.0</td>\n",
       "      <td>0.0</td>\n",
       "      <td>0.0</td>\n",
       "      <td>0.0</td>\n",
       "      <td>0.0</td>\n",
       "      <td>0.0</td>\n",
       "      <td>0.39584</td>\n",
       "    </tr>\n",
       "  </tbody>\n",
       "</table>\n",
       "<p>5 rows × 209 columns</p>\n",
       "</div>"
      ],
      "text/plain": [
       "   anime_id                            title  episodes  score  \\\n",
       "0         1                     Cowboy Bebop      26.0    9.0   \n",
       "1         5  Cowboy Bebop: Tengoku no Tobira       1.0    8.0   \n",
       "2         6                           Trigun      26.0    8.0   \n",
       "3         7               Witch Hunter Robin      26.0    7.0   \n",
       "4         8                   Bouken Ou Beet      52.0    7.0   \n",
       "\n",
       "  Popularity_category Rank_category  Genres_Action  Genres_Adventure  \\\n",
       "0             Top 100       Top 100           True             False   \n",
       "1           Top 1,000       Top 500           True             False   \n",
       "2             Top 500       Top 500           True             False   \n",
       "3           Top 2,500     Top 5,000           True             False   \n",
       "4           Top 7,500     Top 5,000           True             False   \n",
       "\n",
       "   Genres_Avant Garde  Genres_Award Winning  ...  tfidf_various  tfidf_video  \\\n",
       "0               False                 False  ...            0.0          0.0   \n",
       "1               False                 False  ...            0.0          0.0   \n",
       "2               False                 False  ...            0.0          0.0   \n",
       "3               False                 False  ...            0.0          0.0   \n",
       "4               False                 False  ...            0.0          0.0   \n",
       "\n",
       "   tfidf_video song  tfidf_want  tfidf_war  tfidf_way  tfidf_woman  \\\n",
       "0               0.0         0.0        0.0        0.0          0.0   \n",
       "1               0.0         0.0        0.0        0.0          0.0   \n",
       "2               0.0         0.0        0.0        0.0          0.0   \n",
       "3               0.0         0.0        0.0        0.0          0.0   \n",
       "4               0.0         0.0        0.0        0.0          0.0   \n",
       "\n",
       "   tfidf_work  tfidf_world  tfidf_young  \n",
       "0         0.0          0.0      0.00000  \n",
       "1         0.0          0.0      0.00000  \n",
       "2         0.0          0.0      0.00000  \n",
       "3         0.0          0.0      0.00000  \n",
       "4         0.0          0.0      0.39584  \n",
       "\n",
       "[5 rows x 209 columns]"
      ]
     },
     "execution_count": 26,
     "metadata": {},
     "output_type": "execute_result"
    }
   ],
   "source": [
    "tfidf_df = pd.DataFrame(tfidf_matrix.toarray(), columns=vectorizer.get_feature_names_out())\n",
    "tfidf_df.columns = ['tfidf_' + col for col in tfidf_df.columns]\n",
    "df = pd.concat([df, tfidf_df], axis=1)\n",
    "df.head()"
   ]
  },
  {
   "cell_type": "code",
   "execution_count": 20,
   "metadata": {},
   "outputs": [
    {
     "data": {
      "text/plain": [
       "Index(['anime_id', 'title', 'episodes', 'score', 'Popularity_category',\n",
       "       'Rank_category', 'Genres_Action', 'Genres_Adventure',\n",
       "       'Genres_Avant Garde', 'Genres_Award Winning',\n",
       "       ...\n",
       "       'tfidf_various', 'tfidf_video', 'tfidf_video song', 'tfidf_want',\n",
       "       'tfidf_war', 'tfidf_way', 'tfidf_woman', 'tfidf_work', 'tfidf_world',\n",
       "       'tfidf_young'],\n",
       "      dtype='object', length=209)"
      ]
     },
     "execution_count": 20,
     "metadata": {},
     "output_type": "execute_result"
    }
   ],
   "source": [
    "df.columns"
   ]
  },
  {
   "cell_type": "code",
   "execution_count": 21,
   "metadata": {},
   "outputs": [],
   "source": [
    "df.drop(columns = 'synopsis', inplace = True)"
   ]
  },
  {
   "cell_type": "code",
   "execution_count": 22,
   "metadata": {},
   "outputs": [],
   "source": [
    "df.to_csv('training_set.csv', index = False)"
   ]
  },
  {
   "cell_type": "code",
   "execution_count": 23,
   "metadata": {},
   "outputs": [],
   "source": [
    "scipy.sparse.save_npz('tfidf_matrix.npz', tfidf_matrix)  \n",
    "with open('tfidf_vectorizer.pkl', 'wb') as f:\n",
    "    pickle.dump(vectorizer, f)"
   ]
  },
  {
   "cell_type": "markdown",
   "metadata": {},
   "source": [
    "Add Producers as a feature"
   ]
  },
  {
   "cell_type": "code",
   "execution_count": 1,
   "metadata": {},
   "outputs": [],
   "source": [
    "import pandas as pd\n",
    "\n",
    "df = pd.read_csv('Data/training_set.csv')\n",
    "df2 = pd.read_csv('Data/jikan_final.csv')"
   ]
  },
  {
   "cell_type": "code",
   "execution_count": 4,
   "metadata": {},
   "outputs": [],
   "source": [
    "df2 = df2[['mal_id', 'producers']]"
   ]
  },
  {
   "cell_type": "code",
   "execution_count": 5,
   "metadata": {},
   "outputs": [],
   "source": [
    "df = pd.merge(df, df2, how = \"inner\", left_on=\"anime_id\", right_on=\"mal_id\")\n",
    "df.drop(columns = \"mal_id\", inplace=True)"
   ]
  },
  {
   "cell_type": "code",
   "execution_count": 7,
   "metadata": {},
   "outputs": [],
   "source": [
    "import ast\n",
    "\n",
    "def extract_names(entry):\n",
    "    dict_list = ast.literal_eval(entry)\n",
    "    return [d['name'] for d in dict_list if 'name' in d]"
   ]
  },
  {
   "cell_type": "code",
   "execution_count": 8,
   "metadata": {},
   "outputs": [],
   "source": [
    "df['producers'] = df['producers'].apply(extract_names)"
   ]
  },
  {
   "cell_type": "code",
   "execution_count": 14,
   "metadata": {},
   "outputs": [
    {
     "data": {
      "text/html": [
       "<div>\n",
       "<style scoped>\n",
       "    .dataframe tbody tr th:only-of-type {\n",
       "        vertical-align: middle;\n",
       "    }\n",
       "\n",
       "    .dataframe tbody tr th {\n",
       "        vertical-align: top;\n",
       "    }\n",
       "\n",
       "    .dataframe thead th {\n",
       "        text-align: right;\n",
       "    }\n",
       "</style>\n",
       "<table border=\"1\" class=\"dataframe\">\n",
       "  <thead>\n",
       "    <tr style=\"text-align: right;\">\n",
       "      <th></th>\n",
       "      <th>Producer</th>\n",
       "      <th>Count</th>\n",
       "    </tr>\n",
       "  </thead>\n",
       "  <tbody>\n",
       "    <tr>\n",
       "      <th>16</th>\n",
       "      <td>Aniplex</td>\n",
       "      <td>595</td>\n",
       "    </tr>\n",
       "    <tr>\n",
       "      <th>5</th>\n",
       "      <td>TV Tokyo</td>\n",
       "      <td>583</td>\n",
       "    </tr>\n",
       "    <tr>\n",
       "      <th>55</th>\n",
       "      <td>Lantis</td>\n",
       "      <td>471</td>\n",
       "    </tr>\n",
       "    <tr>\n",
       "      <th>37</th>\n",
       "      <td>Movic</td>\n",
       "      <td>457</td>\n",
       "    </tr>\n",
       "    <tr>\n",
       "      <th>143</th>\n",
       "      <td>AT-X</td>\n",
       "      <td>436</td>\n",
       "    </tr>\n",
       "    <tr>\n",
       "      <th>0</th>\n",
       "      <td>Bandai Visual</td>\n",
       "      <td>428</td>\n",
       "    </tr>\n",
       "    <tr>\n",
       "      <th>24</th>\n",
       "      <td>Pony Canyon</td>\n",
       "      <td>388</td>\n",
       "    </tr>\n",
       "    <tr>\n",
       "      <th>588</th>\n",
       "      <td>Kadokawa</td>\n",
       "      <td>382</td>\n",
       "    </tr>\n",
       "    <tr>\n",
       "      <th>3</th>\n",
       "      <td>Dentsu</td>\n",
       "      <td>379</td>\n",
       "    </tr>\n",
       "    <tr>\n",
       "      <th>9</th>\n",
       "      <td>Fuji TV</td>\n",
       "      <td>371</td>\n",
       "    </tr>\n",
       "    <tr>\n",
       "      <th>89</th>\n",
       "      <td>NHK</td>\n",
       "      <td>355</td>\n",
       "    </tr>\n",
       "    <tr>\n",
       "      <th>18</th>\n",
       "      <td>Sotsu</td>\n",
       "      <td>329</td>\n",
       "    </tr>\n",
       "    <tr>\n",
       "      <th>69</th>\n",
       "      <td>KlockWorx</td>\n",
       "      <td>321</td>\n",
       "    </tr>\n",
       "    <tr>\n",
       "      <th>42</th>\n",
       "      <td>Kodansha</td>\n",
       "      <td>315</td>\n",
       "    </tr>\n",
       "    <tr>\n",
       "      <th>7</th>\n",
       "      <td>Shueisha</td>\n",
       "      <td>312</td>\n",
       "    </tr>\n",
       "  </tbody>\n",
       "</table>\n",
       "</div>"
      ],
      "text/plain": [
       "          Producer  Count\n",
       "16         Aniplex    595\n",
       "5         TV Tokyo    583\n",
       "55          Lantis    471\n",
       "37           Movic    457\n",
       "143           AT-X    436\n",
       "0    Bandai Visual    428\n",
       "24     Pony Canyon    388\n",
       "588       Kadokawa    382\n",
       "3           Dentsu    379\n",
       "9          Fuji TV    371\n",
       "89             NHK    355\n",
       "18           Sotsu    329\n",
       "69       KlockWorx    321\n",
       "42        Kodansha    315\n",
       "7         Shueisha    312"
      ]
     },
     "execution_count": 14,
     "metadata": {},
     "output_type": "execute_result"
    }
   ],
   "source": [
    "from collections import Counter\n",
    "\n",
    "def process_producers(producers_column):\n",
    "    all_producers = []\n",
    "    \n",
    "    for entry in producers_column:\n",
    "        all_producers.extend(entry)  \n",
    "    \n",
    "    producer_counts = Counter(all_producers)\n",
    "    return producer_counts\n",
    "\n",
    "producer_counts = process_producers(df[\"producers\"])\n",
    "pc_df = pd.DataFrame(producer_counts.items(), columns=[\"Producer\", \"Count\"]).sort_values(by=\"Count\", ascending=False)\n",
    "pc_df.head(15)\n"
   ]
  },
  {
   "cell_type": "code",
   "execution_count": 18,
   "metadata": {},
   "outputs": [],
   "source": [
    "top_producers = [\"Aniplex\", \"TV Tokyo\", \"Lantis\", \"Movic\", \n",
    "                 \"AT-X\", \"Bandai Visual\", \"Pony Canyon\", \"Kadokawa\", \n",
    "                 \"Dentsu\", \"Fuji TV\", \"NHK\", \"Sotsu\", \"KlockWorx\", \"Kodansha\", \"Shueisha\"]\n",
    "\n",
    "for producer in top_producers:\n",
    "    df[f'producer_{producer.replace(\" \", \"_\").lower()}'] = False\n",
    "\n",
    "for index, row in df.iterrows():\n",
    "    producers_in_row = row['producers']\n",
    "    \n",
    "    for producer in top_producers:\n",
    "        column_name = f'producer_{producer.replace(\" \", \"_\").lower()}'\n",
    "        if producer in producers_in_row:\n",
    "            df.at[index, column_name] = True"
   ]
  },
  {
   "cell_type": "code",
   "execution_count": null,
   "metadata": {},
   "outputs": [],
   "source": [
    "df.drop(columns = 'producers', inplace = True)"
   ]
  },
  {
   "cell_type": "code",
   "execution_count": 24,
   "metadata": {},
   "outputs": [],
   "source": [
    "df.to_csv('training_set.csv', index = False)"
   ]
  }
 ],
 "metadata": {
  "kernelspec": {
   "display_name": ".venv",
   "language": "python",
   "name": "python3"
  },
  "language_info": {
   "codemirror_mode": {
    "name": "ipython",
    "version": 3
   },
   "file_extension": ".py",
   "mimetype": "text/x-python",
   "name": "python",
   "nbconvert_exporter": "python",
   "pygments_lexer": "ipython3",
   "version": "3.10.11"
  }
 },
 "nbformat": 4,
 "nbformat_minor": 2
}
