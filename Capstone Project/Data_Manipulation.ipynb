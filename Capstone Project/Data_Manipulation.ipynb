{
 "cells": [
  {
   "cell_type": "markdown",
   "metadata": {},
   "source": [
    "This code cleans the 2024 data, handling null values and manipulating the data into a useable format, pulling from the 2023 data when needed"
   ]
  },
  {
   "cell_type": "code",
   "execution_count": 42,
   "metadata": {},
   "outputs": [
    {
     "name": "stdout",
     "output_type": "stream",
     "text": [
      "<class 'pandas.core.frame.DataFrame'>\n",
      "RangeIndex: 26720 entries, 0 to 26719\n",
      "Data columns (total 15 columns):\n",
      " #   Column         Non-Null Count  Dtype  \n",
      "---  ------         --------------  -----  \n",
      " 0   anime_id       26720 non-null  int64  \n",
      " 1   title          26720 non-null  object \n",
      " 2   title_english  11244 non-null  object \n",
      " 3   type           26652 non-null  object \n",
      " 4   source         26720 non-null  object \n",
      " 5   episodes       26106 non-null  float64\n",
      " 6   rating         26164 non-null  object \n",
      " 7   score          17304 non-null  float64\n",
      " 8   rank           20722 non-null  float64\n",
      " 9   popularity     26720 non-null  int64  \n",
      " 10  synopsis       21915 non-null  object \n",
      " 11  producers      26720 non-null  object \n",
      " 12  licensors      26720 non-null  object \n",
      " 13  studios        26720 non-null  object \n",
      " 14  genres         26720 non-null  object \n",
      "dtypes: float64(3), int64(2), object(10)\n",
      "memory usage: 3.1+ MB\n"
     ]
    }
   ],
   "source": [
    "import pandas as pd \n",
    "import re\n",
    "import ast\n",
    "\n",
    "df = pd.read_csv('Data/2024_Processed.csv')\n",
    "df.info()"
   ]
  },
  {
   "cell_type": "code",
   "execution_count": 43,
   "metadata": {},
   "outputs": [],
   "source": [
    "# Clear the parenthesis and brackets in the synopsis along with anything inside of them\n",
    "df[\"synopsis\"] = df[\"synopsis\"].str.replace(r\"\\[.*?\\]|\\(.*?\\)\", \"\", regex = True)"
   ]
  },
  {
   "cell_type": "code",
   "execution_count": 44,
   "metadata": {},
   "outputs": [],
   "source": [
    "df[\"synopsis\"].to_csv('test.csv')"
   ]
  },
  {
   "cell_type": "markdown",
   "metadata": {},
   "source": [
    "Extract from the crawled data, since the columns all have the same format, we can use the function below on all of them"
   ]
  },
  {
   "cell_type": "code",
   "execution_count": 45,
   "metadata": {},
   "outputs": [],
   "source": [
    "def extract_names(entry):\n",
    "    dict_list = ast.literal_eval(entry)\n",
    "    return [d['name'] for d in dict_list if 'name' in d]\n",
    "    \n"
   ]
  },
  {
   "cell_type": "code",
   "execution_count": 46,
   "metadata": {},
   "outputs": [
    {
     "data": {
      "text/plain": [
       "0                                      [Bandai Visual]\n",
       "1                             [Sunrise, Bandai Visual]\n",
       "2                               [Victor Entertainment]\n",
       "3    [Bandai Visual, Dentsu, Victor Entertainment, ...\n",
       "4                                   [TV Tokyo, Dentsu]\n",
       "Name: producers, dtype: object"
      ]
     },
     "execution_count": 46,
     "metadata": {},
     "output_type": "execute_result"
    }
   ],
   "source": [
    "df['producers'] = df['producers'].apply(extract_names)\n",
    "df['producers'].head(5)"
   ]
  },
  {
   "cell_type": "code",
   "execution_count": 47,
   "metadata": {},
   "outputs": [
    {
     "data": {
      "text/plain": [
       "0                                 [Funimation]\n",
       "1    [Sony Pictures Entertainment, Funimation]\n",
       "2                                 [Funimation]\n",
       "3           [Funimation, Bandai Entertainment]\n",
       "4                   [Illumitoon Entertainment]\n",
       "Name: licensors, dtype: object"
      ]
     },
     "execution_count": 47,
     "metadata": {},
     "output_type": "execute_result"
    }
   ],
   "source": [
    "df['licensors'] = df['licensors'].apply(extract_names)\n",
    "df['licensors'].head(5)"
   ]
  },
  {
   "cell_type": "code",
   "execution_count": 48,
   "metadata": {},
   "outputs": [
    {
     "data": {
      "text/plain": [
       "0           [Sunrise]\n",
       "1             [Bones]\n",
       "2          [Madhouse]\n",
       "3           [Sunrise]\n",
       "4    [Toei Animation]\n",
       "Name: studios, dtype: object"
      ]
     },
     "execution_count": 48,
     "metadata": {},
     "output_type": "execute_result"
    }
   ],
   "source": [
    "df['studios'] = df['studios'].apply(extract_names)\n",
    "df['studios'].head(5)"
   ]
  },
  {
   "cell_type": "code",
   "execution_count": 49,
   "metadata": {},
   "outputs": [
    {
     "data": {
      "text/plain": [
       "0           [Action, Award Winning, Sci-Fi]\n",
       "1                          [Action, Sci-Fi]\n",
       "2               [Action, Adventure, Sci-Fi]\n",
       "3    [Action, Drama, Mystery, Supernatural]\n",
       "4              [Action, Adventure, Fantasy]\n",
       "Name: genres, dtype: object"
      ]
     },
     "execution_count": 49,
     "metadata": {},
     "output_type": "execute_result"
    }
   ],
   "source": [
    "df['genres'] = df['genres'].apply(extract_names)\n",
    "df['genres'].head(5)"
   ]
  },
  {
   "cell_type": "code",
   "execution_count": 50,
   "metadata": {},
   "outputs": [
    {
     "name": "stdout",
     "output_type": "stream",
     "text": [
      "<class 'pandas.core.frame.DataFrame'>\n",
      "RangeIndex: 26720 entries, 0 to 26719\n",
      "Data columns (total 15 columns):\n",
      " #   Column         Non-Null Count  Dtype  \n",
      "---  ------         --------------  -----  \n",
      " 0   anime_id       26720 non-null  int64  \n",
      " 1   title          26720 non-null  object \n",
      " 2   title_english  11244 non-null  object \n",
      " 3   type           26652 non-null  object \n",
      " 4   source         26720 non-null  object \n",
      " 5   episodes       26106 non-null  float64\n",
      " 6   rating         26164 non-null  object \n",
      " 7   score          17304 non-null  float64\n",
      " 8   rank           20722 non-null  float64\n",
      " 9   popularity     26720 non-null  int64  \n",
      " 10  synopsis       21915 non-null  object \n",
      " 11  producers      26720 non-null  object \n",
      " 12  licensors      26720 non-null  object \n",
      " 13  studios        26720 non-null  object \n",
      " 14  genres         26720 non-null  object \n",
      "dtypes: float64(3), int64(2), object(10)\n",
      "memory usage: 3.1+ MB\n"
     ]
    }
   ],
   "source": [
    "df.info()"
   ]
  },
  {
   "cell_type": "markdown",
   "metadata": {},
   "source": [
    "Categorize popularity and rank"
   ]
  },
  {
   "cell_type": "code",
   "execution_count": 51,
   "metadata": {},
   "outputs": [],
   "source": [
    "def assign_category(popularity):\n",
    "    if popularity == 0:\n",
    "        return \"Unknown\"\n",
    "    if popularity <= 10:\n",
    "        return \"Top 10\"\n",
    "    elif popularity <= 100:\n",
    "        return \"Top 100\"\n",
    "    elif popularity <= 500:\n",
    "        return \"Top 500\"\n",
    "    elif popularity <= 1000:\n",
    "        return \"Top 1,000\"\n",
    "    elif popularity <= 5000:\n",
    "        return \"Top 5,000\"\n",
    "    elif popularity <= 7500:\n",
    "        return \"Top 7,500\"\n",
    "    elif popularity <= 10000:\n",
    "        return \"Top 10,000\"\n",
    "    elif popularity <= 25000:\n",
    "        return \"Top 25,000\"\n",
    "    elif popularity <= 50000:\n",
    "        return \"Top 50,000\"\n",
    "    else:\n",
    "        return \"Unknown\""
   ]
  },
  {
   "cell_type": "code",
   "execution_count": null,
   "metadata": {},
   "outputs": [
    {
     "data": {
      "text/plain": [
       "Popularity_category\n",
       "Top 25,000    15084\n",
       "Top 5,000      4025\n",
       "Top 7,500      2523\n",
       "Top 10,000     2520\n",
       "Top 50,000     1566\n",
       "Top 1,000       500\n",
       "Top 500         402\n",
       "Top 100          90\n",
       "Top 10           10\n",
       "Name: count, dtype: int64"
      ]
     },
     "execution_count": 52,
     "metadata": {},
     "output_type": "execute_result"
    }
   ],
   "source": [
    "df[\"Popularity_category\"] = df[\"popularity\"].apply(assign_category)\n",
    "df[\"Popularity_category\"].value_counts()"
   ]
  },
  {
   "cell_type": "code",
   "execution_count": null,
   "metadata": {},
   "outputs": [
    {
     "data": {
      "text/plain": [
       "Rank_category\n",
       "Top 25,000    10695\n",
       "Unknown        5998\n",
       "Top 5,000      4016\n",
       "Top 10,000     2512\n",
       "Top 7,500      2497\n",
       "Top 1,000       501\n",
       "Top 500         401\n",
       "Top 100          90\n",
       "Top 10           10\n",
       "Name: count, dtype: int64"
      ]
     },
     "execution_count": 53,
     "metadata": {},
     "output_type": "execute_result"
    }
   ],
   "source": [
    "df[\"Rank_category\"] = df[\"rank\"].apply(assign_category)\n",
    "df[\"Rank_category\"].value_counts()"
   ]
  },
  {
   "cell_type": "code",
   "execution_count": 54,
   "metadata": {},
   "outputs": [],
   "source": [
    "df = df.drop(columns = [\"rank\", \"popularity\"]) "
   ]
  },
  {
   "cell_type": "code",
   "execution_count": 55,
   "metadata": {},
   "outputs": [
    {
     "name": "stdout",
     "output_type": "stream",
     "text": [
      "<class 'pandas.core.frame.DataFrame'>\n",
      "RangeIndex: 26720 entries, 0 to 26719\n",
      "Data columns (total 15 columns):\n",
      " #   Column               Non-Null Count  Dtype  \n",
      "---  ------               --------------  -----  \n",
      " 0   anime_id             26720 non-null  int64  \n",
      " 1   title                26720 non-null  object \n",
      " 2   title_english        11244 non-null  object \n",
      " 3   type                 26652 non-null  object \n",
      " 4   source               26720 non-null  object \n",
      " 5   episodes             26106 non-null  float64\n",
      " 6   rating               26164 non-null  object \n",
      " 7   score                17304 non-null  float64\n",
      " 8   synopsis             21915 non-null  object \n",
      " 9   producers            26720 non-null  object \n",
      " 10  licensors            26720 non-null  object \n",
      " 11  studios              26720 non-null  object \n",
      " 12  genres               26720 non-null  object \n",
      " 13  Popularity_category  26720 non-null  object \n",
      " 14  Rank_category        26720 non-null  object \n",
      "dtypes: float64(2), int64(1), object(12)\n",
      "memory usage: 3.1+ MB\n"
     ]
    }
   ],
   "source": [
    "df.info()"
   ]
  },
  {
   "cell_type": "code",
   "execution_count": 56,
   "metadata": {},
   "outputs": [
    {
     "name": "stdout",
     "output_type": "stream",
     "text": [
      "<class 'pandas.core.frame.DataFrame'>\n",
      "RangeIndex: 20105 entries, 0 to 20104\n",
      "Data columns (total 15 columns):\n",
      " #   Column               Non-Null Count  Dtype \n",
      "---  ------               --------------  ----- \n",
      " 0   anime_id             20105 non-null  int64 \n",
      " 1   Name                 20105 non-null  object\n",
      " 2   English name         20105 non-null  object\n",
      " 3   Score                20105 non-null  object\n",
      " 4   Genres               20105 non-null  object\n",
      " 5   Synopsis             20105 non-null  object\n",
      " 6   Type                 20105 non-null  object\n",
      " 7   Episodes             20105 non-null  object\n",
      " 8   Producers            20105 non-null  object\n",
      " 9   Licensors            20105 non-null  object\n",
      " 10  Studios              20105 non-null  object\n",
      " 11  Source               20105 non-null  object\n",
      " 12  Rating               20105 non-null  object\n",
      " 13  Popularity_category  20105 non-null  object\n",
      " 14  Rank_category        20105 non-null  object\n",
      "dtypes: int64(1), object(14)\n",
      "memory usage: 2.3+ MB\n"
     ]
    }
   ],
   "source": [
    "df1 = pd.read_csv('Data/2023_Processed.csv')\n",
    "df1.info()"
   ]
  },
  {
   "cell_type": "code",
   "execution_count": 57,
   "metadata": {},
   "outputs": [],
   "source": [
    "# Check if a separate df has the same anime_id, if it does then take the rank value\n",
    "def steal_rank(df, df1, id_column = 'anime_id', rank_column = 'Rank_category'):\n",
    "    \n",
    "    def update_rank(row):\n",
    "        if row[rank_column] == \"Unknown\":\n",
    "            match = df1.loc[df1[id_column] == row[id_column], rank_column]\n",
    "            if not match.empty:\n",
    "                return match.values[0]\n",
    "        return row[rank_column]\n",
    "\n",
    "    df[rank_column] = df.apply(update_rank, axis = 1)\n",
    "    return df"
   ]
  },
  {
   "cell_type": "code",
   "execution_count": null,
   "metadata": {},
   "outputs": [
    {
     "data": {
      "text/plain": [
       "Rank_category\n",
       "Top 25,000    11009\n",
       "Unknown        5521\n",
       "Top 5,000      4040\n",
       "Top 10,000     2602\n",
       "Top 7,500      2542\n",
       "Top 1,000       503\n",
       "Top 500         403\n",
       "Top 100          90\n",
       "Top 10           10\n",
       "Name: count, dtype: int64"
      ]
     },
     "execution_count": 60,
     "metadata": {},
     "output_type": "execute_result"
    }
   ],
   "source": [
    "df = steal_rank(df, df1)\n",
    "df[\"Rank_category\"].value_counts()"
   ]
  },
  {
   "cell_type": "markdown",
   "metadata": {},
   "source": [
    "steal_rank didn't fill many of the Unknown values, so I will default the Unknowns to Top 25,000"
   ]
  },
  {
   "cell_type": "code",
   "execution_count": 61,
   "metadata": {},
   "outputs": [
    {
     "data": {
      "text/plain": [
       "Rank_category\n",
       "Top 25,000    16530\n",
       "Top 5,000      4040\n",
       "Top 10,000     2602\n",
       "Top 7,500      2542\n",
       "Top 1,000       503\n",
       "Top 500         403\n",
       "Top 100          90\n",
       "Top 10           10\n",
       "Name: count, dtype: int64"
      ]
     },
     "execution_count": 61,
     "metadata": {},
     "output_type": "execute_result"
    }
   ],
   "source": [
    "df[\"Rank_category\"] = df[\"Rank_category\"].replace(\"Unknown\", \"Top 25,000\")\n",
    "df[\"Rank_category\"].value_counts()"
   ]
  },
  {
   "cell_type": "code",
   "execution_count": 62,
   "metadata": {},
   "outputs": [
    {
     "name": "stdout",
     "output_type": "stream",
     "text": [
      "<class 'pandas.core.frame.DataFrame'>\n",
      "RangeIndex: 26720 entries, 0 to 26719\n",
      "Data columns (total 15 columns):\n",
      " #   Column               Non-Null Count  Dtype  \n",
      "---  ------               --------------  -----  \n",
      " 0   anime_id             26720 non-null  int64  \n",
      " 1   title                26720 non-null  object \n",
      " 2   title_english        11244 non-null  object \n",
      " 3   type                 26652 non-null  object \n",
      " 4   source               26720 non-null  object \n",
      " 5   episodes             26106 non-null  float64\n",
      " 6   rating               26164 non-null  object \n",
      " 7   score                17304 non-null  float64\n",
      " 8   synopsis             21915 non-null  object \n",
      " 9   producers            26720 non-null  object \n",
      " 10  licensors            26720 non-null  object \n",
      " 11  studios              26720 non-null  object \n",
      " 12  genres               26720 non-null  object \n",
      " 13  Popularity_category  26720 non-null  object \n",
      " 14  Rank_category        26720 non-null  object \n",
      "dtypes: float64(2), int64(1), object(12)\n",
      "memory usage: 3.1+ MB\n"
     ]
    }
   ],
   "source": [
    "df.info()"
   ]
  },
  {
   "cell_type": "code",
   "execution_count": 64,
   "metadata": {},
   "outputs": [
    {
     "data": {
      "text/plain": [
       "np.float64(6.44)"
      ]
     },
     "execution_count": 64,
     "metadata": {},
     "output_type": "execute_result"
    }
   ],
   "source": [
    "median_score = df[\"score\"].median()\n",
    "median_score"
   ]
  },
  {
   "cell_type": "code",
   "execution_count": 66,
   "metadata": {},
   "outputs": [
    {
     "data": {
      "text/plain": [
       "np.float64(6.433792186777623)"
      ]
     },
     "execution_count": 66,
     "metadata": {},
     "output_type": "execute_result"
    }
   ],
   "source": [
    "mean_score = df[\"score\"].mean()\n",
    "mean_score"
   ]
  },
  {
   "cell_type": "code",
   "execution_count": 68,
   "metadata": {},
   "outputs": [
    {
     "data": {
      "text/plain": [
       "0        8.75\n",
       "1        8.38\n",
       "2        8.22\n",
       "3        7.25\n",
       "4        6.99\n",
       "         ... \n",
       "26715    6.44\n",
       "26716    6.44\n",
       "26717    6.44\n",
       "26718    6.44\n",
       "26719    6.44\n",
       "Name: score, Length: 26720, dtype: float64"
      ]
     },
     "execution_count": 68,
     "metadata": {},
     "output_type": "execute_result"
    }
   ],
   "source": [
    "# The median and mean are pretty much the same, going to replace all null score values with the median score\n",
    "df[\"score\"].fillna(median_score)"
   ]
  },
  {
   "cell_type": "code",
   "execution_count": null,
   "metadata": {},
   "outputs": [],
   "source": []
  }
 ],
 "metadata": {
  "kernelspec": {
   "display_name": "Python 3",
   "language": "python",
   "name": "python3"
  },
  "language_info": {
   "codemirror_mode": {
    "name": "ipython",
    "version": 3
   },
   "file_extension": ".py",
   "mimetype": "text/x-python",
   "name": "python",
   "nbconvert_exporter": "python",
   "pygments_lexer": "ipython3",
   "version": "3.10.11"
  }
 },
 "nbformat": 4,
 "nbformat_minor": 2
}
