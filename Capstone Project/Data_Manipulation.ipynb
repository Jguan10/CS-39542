{
 "cells": [
  {
   "cell_type": "markdown",
   "metadata": {},
   "source": [
    "This code cleans the 2024 data, handling null values and manipulating the data into a useable format, pulling from the 2023 data when needed"
   ]
  },
  {
   "cell_type": "code",
   "execution_count": 12,
   "metadata": {},
   "outputs": [
    {
     "name": "stdout",
     "output_type": "stream",
     "text": [
      "<class 'pandas.core.frame.DataFrame'>\n",
      "RangeIndex: 26720 entries, 0 to 26719\n",
      "Data columns (total 15 columns):\n",
      " #   Column         Non-Null Count  Dtype  \n",
      "---  ------         --------------  -----  \n",
      " 0   anime_id       26720 non-null  int64  \n",
      " 1   title          26720 non-null  object \n",
      " 2   title_english  11244 non-null  object \n",
      " 3   type           26652 non-null  object \n",
      " 4   source         26720 non-null  object \n",
      " 5   episodes       26106 non-null  float64\n",
      " 6   rating         26164 non-null  object \n",
      " 7   score          17304 non-null  float64\n",
      " 8   rank           20722 non-null  float64\n",
      " 9   popularity     26720 non-null  int64  \n",
      " 10  synopsis       21915 non-null  object \n",
      " 11  producers      26720 non-null  object \n",
      " 12  licensors      26720 non-null  object \n",
      " 13  studios        26720 non-null  object \n",
      " 14  genres         26720 non-null  object \n",
      "dtypes: float64(3), int64(2), object(10)\n",
      "memory usage: 3.1+ MB\n"
     ]
    }
   ],
   "source": [
    "import pandas as pd \n",
    "import re\n",
    "import ast\n",
    "\n",
    "df = pd.read_csv('Data/2024_Processed.csv')\n",
    "df.info()"
   ]
  },
  {
   "cell_type": "code",
   "execution_count": 13,
   "metadata": {},
   "outputs": [],
   "source": [
    "# Clear the parenthesis and brackets in the synopsis along with anything inside of them\n",
    "df[\"synopsis\"] = df[\"synopsis\"].str.replace(r\"\\[.*?\\]|\\(.*?\\)\", \"\", regex = True)"
   ]
  },
  {
   "cell_type": "code",
   "execution_count": 14,
   "metadata": {},
   "outputs": [],
   "source": [
    "df[\"synopsis\"].to_csv('test.csv')"
   ]
  },
  {
   "cell_type": "markdown",
   "metadata": {},
   "source": [
    "Extract from the crawled data, since the columns all have the same format, we can use the function below on all of them"
   ]
  },
  {
   "cell_type": "code",
   "execution_count": 15,
   "metadata": {},
   "outputs": [],
   "source": [
    "def extract_names(entry):\n",
    "    dict_list = ast.literal_eval(entry)\n",
    "    return [d['name'] for d in dict_list if 'name' in d]\n",
    "    \n"
   ]
  },
  {
   "cell_type": "code",
   "execution_count": 16,
   "metadata": {},
   "outputs": [
    {
     "data": {
      "text/plain": [
       "0                                      [Bandai Visual]\n",
       "1                             [Sunrise, Bandai Visual]\n",
       "2                               [Victor Entertainment]\n",
       "3    [Bandai Visual, Dentsu, Victor Entertainment, ...\n",
       "4                                   [TV Tokyo, Dentsu]\n",
       "Name: producers, dtype: object"
      ]
     },
     "execution_count": 16,
     "metadata": {},
     "output_type": "execute_result"
    }
   ],
   "source": [
    "df['producers'] = df['producers'].apply(extract_names)\n",
    "df['producers'].head(5)"
   ]
  },
  {
   "cell_type": "code",
   "execution_count": 17,
   "metadata": {},
   "outputs": [
    {
     "data": {
      "text/plain": [
       "0                                 [Funimation]\n",
       "1    [Sony Pictures Entertainment, Funimation]\n",
       "2                                 [Funimation]\n",
       "3           [Funimation, Bandai Entertainment]\n",
       "4                   [Illumitoon Entertainment]\n",
       "Name: licensors, dtype: object"
      ]
     },
     "execution_count": 17,
     "metadata": {},
     "output_type": "execute_result"
    }
   ],
   "source": [
    "df['licensors'] = df['licensors'].apply(extract_names)\n",
    "df['licensors'].head(5)"
   ]
  },
  {
   "cell_type": "code",
   "execution_count": 18,
   "metadata": {},
   "outputs": [
    {
     "data": {
      "text/plain": [
       "0           [Sunrise]\n",
       "1             [Bones]\n",
       "2          [Madhouse]\n",
       "3           [Sunrise]\n",
       "4    [Toei Animation]\n",
       "Name: studios, dtype: object"
      ]
     },
     "execution_count": 18,
     "metadata": {},
     "output_type": "execute_result"
    }
   ],
   "source": [
    "df['studios'] = df['studios'].apply(extract_names)\n",
    "df['studios'].head(5)"
   ]
  },
  {
   "cell_type": "code",
   "execution_count": 19,
   "metadata": {},
   "outputs": [
    {
     "data": {
      "text/plain": [
       "0           [Action, Award Winning, Sci-Fi]\n",
       "1                          [Action, Sci-Fi]\n",
       "2               [Action, Adventure, Sci-Fi]\n",
       "3    [Action, Drama, Mystery, Supernatural]\n",
       "4              [Action, Adventure, Fantasy]\n",
       "Name: genres, dtype: object"
      ]
     },
     "execution_count": 19,
     "metadata": {},
     "output_type": "execute_result"
    }
   ],
   "source": [
    "df['genres'] = df['genres'].apply(extract_names)\n",
    "df['genres'].head(5)"
   ]
  },
  {
   "cell_type": "code",
   "execution_count": 20,
   "metadata": {},
   "outputs": [
    {
     "name": "stdout",
     "output_type": "stream",
     "text": [
      "<class 'pandas.core.frame.DataFrame'>\n",
      "RangeIndex: 26720 entries, 0 to 26719\n",
      "Data columns (total 15 columns):\n",
      " #   Column         Non-Null Count  Dtype  \n",
      "---  ------         --------------  -----  \n",
      " 0   anime_id       26720 non-null  int64  \n",
      " 1   title          26720 non-null  object \n",
      " 2   title_english  11244 non-null  object \n",
      " 3   type           26652 non-null  object \n",
      " 4   source         26720 non-null  object \n",
      " 5   episodes       26106 non-null  float64\n",
      " 6   rating         26164 non-null  object \n",
      " 7   score          17304 non-null  float64\n",
      " 8   rank           20722 non-null  float64\n",
      " 9   popularity     26720 non-null  int64  \n",
      " 10  synopsis       21915 non-null  object \n",
      " 11  producers      26720 non-null  object \n",
      " 12  licensors      26720 non-null  object \n",
      " 13  studios        26720 non-null  object \n",
      " 14  genres         26720 non-null  object \n",
      "dtypes: float64(3), int64(2), object(10)\n",
      "memory usage: 3.1+ MB\n"
     ]
    }
   ],
   "source": [
    "df.info()"
   ]
  },
  {
   "cell_type": "markdown",
   "metadata": {},
   "source": [
    "Categorize popularity and rank"
   ]
  },
  {
   "cell_type": "code",
   "execution_count": 21,
   "metadata": {},
   "outputs": [],
   "source": [
    "def assign_category(popularity):\n",
    "    if popularity == 0:\n",
    "        return \"Unknown\"\n",
    "    if popularity <= 10:\n",
    "        return \"Top 10\"\n",
    "    elif popularity <= 100:\n",
    "        return \"Top 100\"\n",
    "    elif popularity <= 500:\n",
    "        return \"Top 500\"\n",
    "    elif popularity <= 1000:\n",
    "        return \"Top 1,000\"\n",
    "    elif popularity <= 5000:\n",
    "        return \"Top 5,000\"\n",
    "    elif popularity <= 7500:\n",
    "        return \"Top 7,500\"\n",
    "    elif popularity <= 10000:\n",
    "        return \"Top 10,000\"\n",
    "    elif popularity <= 25000:\n",
    "        return \"Top 25,000\"\n",
    "    elif popularity <= 50000:\n",
    "        return \"Top 50,000\"\n",
    "    else:\n",
    "        return \"Unknown\""
   ]
  },
  {
   "cell_type": "code",
   "execution_count": 22,
   "metadata": {},
   "outputs": [
    {
     "data": {
      "text/plain": [
       "Popularity_category\n",
       "Top 25,000    15084\n",
       "Top 5,000      4025\n",
       "Top 7,500      2523\n",
       "Top 10,000     2520\n",
       "Top 50,000     1566\n",
       "Top 1,000       500\n",
       "Top 500         402\n",
       "Top 100          90\n",
       "Top 10           10\n",
       "Name: count, dtype: int64"
      ]
     },
     "execution_count": 22,
     "metadata": {},
     "output_type": "execute_result"
    }
   ],
   "source": [
    "df[\"Popularity_category\"] = df[\"popularity\"].apply(assign_category)\n",
    "df[\"Popularity_category\"].value_counts()"
   ]
  },
  {
   "cell_type": "code",
   "execution_count": 23,
   "metadata": {},
   "outputs": [
    {
     "data": {
      "text/plain": [
       "Rank_category\n",
       "Top 25,000    10695\n",
       "Unknown        5998\n",
       "Top 5,000      4016\n",
       "Top 10,000     2512\n",
       "Top 7,500      2497\n",
       "Top 1,000       501\n",
       "Top 500         401\n",
       "Top 100          90\n",
       "Top 10           10\n",
       "Name: count, dtype: int64"
      ]
     },
     "execution_count": 23,
     "metadata": {},
     "output_type": "execute_result"
    }
   ],
   "source": [
    "df[\"Rank_category\"] = df[\"rank\"].apply(assign_category)\n",
    "df[\"Rank_category\"].value_counts()"
   ]
  },
  {
   "cell_type": "code",
   "execution_count": 24,
   "metadata": {},
   "outputs": [],
   "source": [
    "df = df.drop(columns = [\"rank\", \"popularity\"]) "
   ]
  },
  {
   "cell_type": "code",
   "execution_count": 25,
   "metadata": {},
   "outputs": [
    {
     "name": "stdout",
     "output_type": "stream",
     "text": [
      "<class 'pandas.core.frame.DataFrame'>\n",
      "RangeIndex: 26720 entries, 0 to 26719\n",
      "Data columns (total 15 columns):\n",
      " #   Column               Non-Null Count  Dtype  \n",
      "---  ------               --------------  -----  \n",
      " 0   anime_id             26720 non-null  int64  \n",
      " 1   title                26720 non-null  object \n",
      " 2   title_english        11244 non-null  object \n",
      " 3   type                 26652 non-null  object \n",
      " 4   source               26720 non-null  object \n",
      " 5   episodes             26106 non-null  float64\n",
      " 6   rating               26164 non-null  object \n",
      " 7   score                17304 non-null  float64\n",
      " 8   synopsis             21915 non-null  object \n",
      " 9   producers            26720 non-null  object \n",
      " 10  licensors            26720 non-null  object \n",
      " 11  studios              26720 non-null  object \n",
      " 12  genres               26720 non-null  object \n",
      " 13  Popularity_category  26720 non-null  object \n",
      " 14  Rank_category        26720 non-null  object \n",
      "dtypes: float64(2), int64(1), object(12)\n",
      "memory usage: 3.1+ MB\n"
     ]
    }
   ],
   "source": [
    "df.info()"
   ]
  },
  {
   "cell_type": "code",
   "execution_count": 26,
   "metadata": {},
   "outputs": [
    {
     "name": "stdout",
     "output_type": "stream",
     "text": [
      "<class 'pandas.core.frame.DataFrame'>\n",
      "RangeIndex: 20105 entries, 0 to 20104\n",
      "Data columns (total 15 columns):\n",
      " #   Column               Non-Null Count  Dtype \n",
      "---  ------               --------------  ----- \n",
      " 0   anime_id             20105 non-null  int64 \n",
      " 1   Name                 20105 non-null  object\n",
      " 2   English name         20105 non-null  object\n",
      " 3   Score                20105 non-null  object\n",
      " 4   Genres               20105 non-null  object\n",
      " 5   Synopsis             20105 non-null  object\n",
      " 6   Type                 20105 non-null  object\n",
      " 7   Episodes             20105 non-null  object\n",
      " 8   Producers            20105 non-null  object\n",
      " 9   Licensors            20105 non-null  object\n",
      " 10  Studios              20105 non-null  object\n",
      " 11  Source               20105 non-null  object\n",
      " 12  Rating               20105 non-null  object\n",
      " 13  Popularity_category  20105 non-null  object\n",
      " 14  Rank_category        20105 non-null  object\n",
      "dtypes: int64(1), object(14)\n",
      "memory usage: 2.3+ MB\n"
     ]
    }
   ],
   "source": [
    "df1 = pd.read_csv('Data/2023_Processed.csv')\n",
    "df1.info()"
   ]
  },
  {
   "cell_type": "code",
   "execution_count": 27,
   "metadata": {},
   "outputs": [],
   "source": [
    "# Check if a separate df has the same anime_id, if it does then take the rank value\n",
    "def steal_rank(df, df1, id_column = 'anime_id', rank_column = 'Rank_category'):\n",
    "    \n",
    "    def update_rank(row):\n",
    "        if row[rank_column] == \"Unknown\":\n",
    "            match = df1.loc[df1[id_column] == row[id_column], rank_column]\n",
    "            if not match.empty:\n",
    "                return match.values[0]\n",
    "        return row[rank_column]\n",
    "\n",
    "    df[rank_column] = df.apply(update_rank, axis = 1)\n",
    "    return df"
   ]
  },
  {
   "cell_type": "code",
   "execution_count": 28,
   "metadata": {},
   "outputs": [
    {
     "data": {
      "text/plain": [
       "Rank_category\n",
       "Top 25,000    11009\n",
       "Unknown        5521\n",
       "Top 5,000      4040\n",
       "Top 10,000     2602\n",
       "Top 7,500      2542\n",
       "Top 1,000       503\n",
       "Top 500         403\n",
       "Top 100          90\n",
       "Top 10           10\n",
       "Name: count, dtype: int64"
      ]
     },
     "execution_count": 28,
     "metadata": {},
     "output_type": "execute_result"
    }
   ],
   "source": [
    "df = steal_rank(df, df1)\n",
    "df[\"Rank_category\"].value_counts()"
   ]
  },
  {
   "cell_type": "markdown",
   "metadata": {},
   "source": [
    "steal_rank didn't fill many of the Unknown values, so I will default the Unknowns to Top 25,000"
   ]
  },
  {
   "cell_type": "code",
   "execution_count": 29,
   "metadata": {},
   "outputs": [
    {
     "data": {
      "text/plain": [
       "Rank_category\n",
       "Top 25,000    16530\n",
       "Top 5,000      4040\n",
       "Top 10,000     2602\n",
       "Top 7,500      2542\n",
       "Top 1,000       503\n",
       "Top 500         403\n",
       "Top 100          90\n",
       "Top 10           10\n",
       "Name: count, dtype: int64"
      ]
     },
     "execution_count": 29,
     "metadata": {},
     "output_type": "execute_result"
    }
   ],
   "source": [
    "df[\"Rank_category\"] = df[\"Rank_category\"].replace(\"Unknown\", \"Top 25,000\")\n",
    "df[\"Rank_category\"].value_counts()"
   ]
  },
  {
   "cell_type": "code",
   "execution_count": 30,
   "metadata": {},
   "outputs": [
    {
     "name": "stdout",
     "output_type": "stream",
     "text": [
      "<class 'pandas.core.frame.DataFrame'>\n",
      "RangeIndex: 26720 entries, 0 to 26719\n",
      "Data columns (total 15 columns):\n",
      " #   Column               Non-Null Count  Dtype  \n",
      "---  ------               --------------  -----  \n",
      " 0   anime_id             26720 non-null  int64  \n",
      " 1   title                26720 non-null  object \n",
      " 2   title_english        11244 non-null  object \n",
      " 3   type                 26652 non-null  object \n",
      " 4   source               26720 non-null  object \n",
      " 5   episodes             26106 non-null  float64\n",
      " 6   rating               26164 non-null  object \n",
      " 7   score                17304 non-null  float64\n",
      " 8   synopsis             21915 non-null  object \n",
      " 9   producers            26720 non-null  object \n",
      " 10  licensors            26720 non-null  object \n",
      " 11  studios              26720 non-null  object \n",
      " 12  genres               26720 non-null  object \n",
      " 13  Popularity_category  26720 non-null  object \n",
      " 14  Rank_category        26720 non-null  object \n",
      "dtypes: float64(2), int64(1), object(12)\n",
      "memory usage: 3.1+ MB\n"
     ]
    }
   ],
   "source": [
    "df.info()"
   ]
  },
  {
   "cell_type": "code",
   "execution_count": 31,
   "metadata": {},
   "outputs": [
    {
     "data": {
      "text/plain": [
       "np.float64(6.44)"
      ]
     },
     "execution_count": 31,
     "metadata": {},
     "output_type": "execute_result"
    }
   ],
   "source": [
    "median_score = df[\"score\"].median()\n",
    "median_score"
   ]
  },
  {
   "cell_type": "code",
   "execution_count": 32,
   "metadata": {},
   "outputs": [
    {
     "data": {
      "text/plain": [
       "np.float64(6.433792186777623)"
      ]
     },
     "execution_count": 32,
     "metadata": {},
     "output_type": "execute_result"
    }
   ],
   "source": [
    "mean_score = df[\"score\"].mean()\n",
    "mean_score"
   ]
  },
  {
   "cell_type": "code",
   "execution_count": 35,
   "metadata": {},
   "outputs": [],
   "source": [
    "# The median and mean are pretty much the same, going to replace all null score values with the median score\n",
    "df[\"score\"] = df[\"score\"].fillna(median_score)"
   ]
  },
  {
   "cell_type": "code",
   "execution_count": 36,
   "metadata": {},
   "outputs": [
    {
     "name": "stdout",
     "output_type": "stream",
     "text": [
      "<class 'pandas.core.frame.DataFrame'>\n",
      "RangeIndex: 26720 entries, 0 to 26719\n",
      "Data columns (total 15 columns):\n",
      " #   Column               Non-Null Count  Dtype  \n",
      "---  ------               --------------  -----  \n",
      " 0   anime_id             26720 non-null  int64  \n",
      " 1   title                26720 non-null  object \n",
      " 2   title_english        11244 non-null  object \n",
      " 3   type                 26652 non-null  object \n",
      " 4   source               26720 non-null  object \n",
      " 5   episodes             26106 non-null  float64\n",
      " 6   rating               26164 non-null  object \n",
      " 7   score                26720 non-null  float64\n",
      " 8   synopsis             21915 non-null  object \n",
      " 9   producers            26720 non-null  object \n",
      " 10  licensors            26720 non-null  object \n",
      " 11  studios              26720 non-null  object \n",
      " 12  genres               26720 non-null  object \n",
      " 13  Popularity_category  26720 non-null  object \n",
      " 14  Rank_category        26720 non-null  object \n",
      "dtypes: float64(2), int64(1), object(12)\n",
      "memory usage: 3.1+ MB\n"
     ]
    }
   ],
   "source": [
    "df.info()"
   ]
  },
  {
   "cell_type": "code",
   "execution_count": 37,
   "metadata": {},
   "outputs": [
    {
     "data": {
      "text/plain": [
       "type\n",
       "TV            7941\n",
       "Movie         4586\n",
       "OVA           4120\n",
       "ONA           3591\n",
       "Music         3415\n",
       "Special       1798\n",
       "TV Special     659\n",
       "CM             383\n",
       "PV             159\n",
       "Name: count, dtype: int64"
      ]
     },
     "execution_count": 37,
     "metadata": {},
     "output_type": "execute_result"
    }
   ],
   "source": [
    "df['type'].value_counts()"
   ]
  },
  {
   "cell_type": "code",
   "execution_count": 38,
   "metadata": {},
   "outputs": [
    {
     "data": {
      "text/plain": [
       "type\n",
       "TV         7941\n",
       "Movie      4586\n",
       "OVA        4120\n",
       "ONA        3591\n",
       "Music      3415\n",
       "Special    2457\n",
       "Name: count, dtype: int64"
      ]
     },
     "execution_count": 38,
     "metadata": {},
     "output_type": "execute_result"
    }
   ],
   "source": [
    "df[\"type\"] = df[\"type\"].replace(\"TV Special\", \"Special\")\n",
    "df = df[~df[\"type\"].isin([\"CM\", \"PV\"])]\n",
    "df[\"type\"].value_counts()"
   ]
  },
  {
   "cell_type": "code",
   "execution_count": 39,
   "metadata": {},
   "outputs": [
    {
     "name": "stdout",
     "output_type": "stream",
     "text": [
      "<class 'pandas.core.frame.DataFrame'>\n",
      "Index: 26178 entries, 0 to 26719\n",
      "Data columns (total 15 columns):\n",
      " #   Column               Non-Null Count  Dtype  \n",
      "---  ------               --------------  -----  \n",
      " 0   anime_id             26178 non-null  int64  \n",
      " 1   title                26178 non-null  object \n",
      " 2   title_english        11099 non-null  object \n",
      " 3   type                 26110 non-null  object \n",
      " 4   source               26178 non-null  object \n",
      " 5   episodes             25579 non-null  float64\n",
      " 6   rating               25622 non-null  object \n",
      " 7   score                26178 non-null  float64\n",
      " 8   synopsis             21396 non-null  object \n",
      " 9   producers            26178 non-null  object \n",
      " 10  licensors            26178 non-null  object \n",
      " 11  studios              26178 non-null  object \n",
      " 12  genres               26178 non-null  object \n",
      " 13  Popularity_category  26178 non-null  object \n",
      " 14  Rank_category        26178 non-null  object \n",
      "dtypes: float64(2), int64(1), object(12)\n",
      "memory usage: 3.2+ MB\n"
     ]
    }
   ],
   "source": [
    "df.info()"
   ]
  },
  {
   "cell_type": "code",
   "execution_count": 40,
   "metadata": {},
   "outputs": [
    {
     "data": {
      "text/html": [
       "<div>\n",
       "<style scoped>\n",
       "    .dataframe tbody tr th:only-of-type {\n",
       "        vertical-align: middle;\n",
       "    }\n",
       "\n",
       "    .dataframe tbody tr th {\n",
       "        vertical-align: top;\n",
       "    }\n",
       "\n",
       "    .dataframe thead th {\n",
       "        text-align: right;\n",
       "    }\n",
       "</style>\n",
       "<table border=\"1\" class=\"dataframe\">\n",
       "  <thead>\n",
       "    <tr style=\"text-align: right;\">\n",
       "      <th></th>\n",
       "      <th>anime_id</th>\n",
       "      <th>title</th>\n",
       "      <th>title_english</th>\n",
       "      <th>type</th>\n",
       "      <th>source</th>\n",
       "      <th>episodes</th>\n",
       "      <th>rating</th>\n",
       "      <th>score</th>\n",
       "      <th>synopsis</th>\n",
       "      <th>producers</th>\n",
       "      <th>licensors</th>\n",
       "      <th>studios</th>\n",
       "      <th>genres</th>\n",
       "      <th>Popularity_category</th>\n",
       "      <th>Rank_category</th>\n",
       "    </tr>\n",
       "  </thead>\n",
       "  <tbody>\n",
       "    <tr>\n",
       "      <th>4978</th>\n",
       "      <td>7398</td>\n",
       "      <td>Sekai Meisaku Douwa</td>\n",
       "      <td>World Famous Fairy Tale Series</td>\n",
       "      <td>NaN</td>\n",
       "      <td>Unknown</td>\n",
       "      <td>20.0</td>\n",
       "      <td>G - All Ages</td>\n",
       "      <td>6.12</td>\n",
       "      <td>Another of Toei's World Famous Fairy Tale seri...</td>\n",
       "      <td>[]</td>\n",
       "      <td>[]</td>\n",
       "      <td>[]</td>\n",
       "      <td>[Fantasy]</td>\n",
       "      <td>Top 25,000</td>\n",
       "      <td>Top 10,000</td>\n",
       "    </tr>\n",
       "    <tr>\n",
       "      <th>17585</th>\n",
       "      <td>43629</td>\n",
       "      <td>Tokyo Babylon 2021</td>\n",
       "      <td>NaN</td>\n",
       "      <td>NaN</td>\n",
       "      <td>Manga</td>\n",
       "      <td>NaN</td>\n",
       "      <td>NaN</td>\n",
       "      <td>6.44</td>\n",
       "      <td>Subaru Sumeragi is the thirteenth head of his ...</td>\n",
       "      <td>[]</td>\n",
       "      <td>[]</td>\n",
       "      <td>[]</td>\n",
       "      <td>[Boys Love, Drama, Supernatural]</td>\n",
       "      <td>Top 7,500</td>\n",
       "      <td>Top 25,000</td>\n",
       "    </tr>\n",
       "    <tr>\n",
       "      <th>19531</th>\n",
       "      <td>46488</td>\n",
       "      <td>Tai-Ari deshita.: Ojousama wa Kakutou Game nan...</td>\n",
       "      <td>NaN</td>\n",
       "      <td>NaN</td>\n",
       "      <td>Manga</td>\n",
       "      <td>NaN</td>\n",
       "      <td>NaN</td>\n",
       "      <td>6.44</td>\n",
       "      <td>A hot fighting game played at the girls' schoo...</td>\n",
       "      <td>[]</td>\n",
       "      <td>[]</td>\n",
       "      <td>[]</td>\n",
       "      <td>[Comedy, Girls Love]</td>\n",
       "      <td>Top 10,000</td>\n",
       "      <td>Top 25,000</td>\n",
       "    </tr>\n",
       "    <tr>\n",
       "      <th>21023</th>\n",
       "      <td>48701</td>\n",
       "      <td>Peleliu: Rakuen no Guernica</td>\n",
       "      <td>NaN</td>\n",
       "      <td>NaN</td>\n",
       "      <td>Manga</td>\n",
       "      <td>NaN</td>\n",
       "      <td>NaN</td>\n",
       "      <td>6.44</td>\n",
       "      <td>Shouwa 19 , summer. Tamaru, a soldier who aspi...</td>\n",
       "      <td>[]</td>\n",
       "      <td>[]</td>\n",
       "      <td>[]</td>\n",
       "      <td>[Drama]</td>\n",
       "      <td>Top 25,000</td>\n",
       "      <td>Top 25,000</td>\n",
       "    </tr>\n",
       "    <tr>\n",
       "      <th>21443</th>\n",
       "      <td>49703</td>\n",
       "      <td>Fate/kaleid liner Prisma☆Illya (Zoku-hen)</td>\n",
       "      <td>NaN</td>\n",
       "      <td>NaN</td>\n",
       "      <td>Manga</td>\n",
       "      <td>NaN</td>\n",
       "      <td>NaN</td>\n",
       "      <td>6.44</td>\n",
       "      <td>Sequel to Fate/kaleid liner Prisma☆Illya Movie...</td>\n",
       "      <td>[]</td>\n",
       "      <td>[]</td>\n",
       "      <td>[]</td>\n",
       "      <td>[Action, Fantasy]</td>\n",
       "      <td>Top 7,500</td>\n",
       "      <td>Top 25,000</td>\n",
       "    </tr>\n",
       "    <tr>\n",
       "      <th>...</th>\n",
       "      <td>...</td>\n",
       "      <td>...</td>\n",
       "      <td>...</td>\n",
       "      <td>...</td>\n",
       "      <td>...</td>\n",
       "      <td>...</td>\n",
       "      <td>...</td>\n",
       "      <td>...</td>\n",
       "      <td>...</td>\n",
       "      <td>...</td>\n",
       "      <td>...</td>\n",
       "      <td>...</td>\n",
       "      <td>...</td>\n",
       "      <td>...</td>\n",
       "      <td>...</td>\n",
       "    </tr>\n",
       "    <tr>\n",
       "      <th>26654</th>\n",
       "      <td>58573</td>\n",
       "      <td>Baki-dou</td>\n",
       "      <td>NaN</td>\n",
       "      <td>NaN</td>\n",
       "      <td>Manga</td>\n",
       "      <td>NaN</td>\n",
       "      <td>NaN</td>\n",
       "      <td>6.44</td>\n",
       "      <td>Growing complacent with his title of \"World's ...</td>\n",
       "      <td>[]</td>\n",
       "      <td>[]</td>\n",
       "      <td>[TMS Entertainment]</td>\n",
       "      <td>[Action]</td>\n",
       "      <td>Top 7,500</td>\n",
       "      <td>Top 25,000</td>\n",
       "    </tr>\n",
       "    <tr>\n",
       "      <th>26692</th>\n",
       "      <td>58725</td>\n",
       "      <td>Ninja to Koroshiya no Futarigurashi</td>\n",
       "      <td>NaN</td>\n",
       "      <td>NaN</td>\n",
       "      <td>Manga</td>\n",
       "      <td>NaN</td>\n",
       "      <td>NaN</td>\n",
       "      <td>6.44</td>\n",
       "      <td>Satoko Kusagakure, a female ninja who left her...</td>\n",
       "      <td>[Kadokawa]</td>\n",
       "      <td>[]</td>\n",
       "      <td>[Shaft]</td>\n",
       "      <td>[Slice of Life]</td>\n",
       "      <td>Top 25,000</td>\n",
       "      <td>Top 25,000</td>\n",
       "    </tr>\n",
       "    <tr>\n",
       "      <th>26693</th>\n",
       "      <td>58725</td>\n",
       "      <td>Ninja to Koroshiya no Futarigurashi</td>\n",
       "      <td>NaN</td>\n",
       "      <td>NaN</td>\n",
       "      <td>Manga</td>\n",
       "      <td>NaN</td>\n",
       "      <td>NaN</td>\n",
       "      <td>6.44</td>\n",
       "      <td>Satoko Kusagakure, a female ninja who left her...</td>\n",
       "      <td>[Kadokawa]</td>\n",
       "      <td>[]</td>\n",
       "      <td>[Shaft]</td>\n",
       "      <td>[Slice of Life]</td>\n",
       "      <td>Top 25,000</td>\n",
       "      <td>Top 25,000</td>\n",
       "    </tr>\n",
       "    <tr>\n",
       "      <th>26707</th>\n",
       "      <td>58755</td>\n",
       "      <td>5-toubun no Hanayome*</td>\n",
       "      <td>NaN</td>\n",
       "      <td>NaN</td>\n",
       "      <td>Manga</td>\n",
       "      <td>NaN</td>\n",
       "      <td>PG-13 - Teens 13 or older</td>\n",
       "      <td>6.44</td>\n",
       "      <td>5-toubun no Hanayome* centers on the honeymoon...</td>\n",
       "      <td>[]</td>\n",
       "      <td>[]</td>\n",
       "      <td>[]</td>\n",
       "      <td>[Comedy, Romance]</td>\n",
       "      <td>Top 7,500</td>\n",
       "      <td>Top 25,000</td>\n",
       "    </tr>\n",
       "    <tr>\n",
       "      <th>26710</th>\n",
       "      <td>58773</td>\n",
       "      <td>Keroro Gunsou (Anime Shin Project)</td>\n",
       "      <td>NaN</td>\n",
       "      <td>NaN</td>\n",
       "      <td>Manga</td>\n",
       "      <td>NaN</td>\n",
       "      <td>NaN</td>\n",
       "      <td>6.44</td>\n",
       "      <td>New Keroro Gunsou project to celebrate its 20t...</td>\n",
       "      <td>[]</td>\n",
       "      <td>[]</td>\n",
       "      <td>[]</td>\n",
       "      <td>[Comedy, Sci-Fi]</td>\n",
       "      <td>Top 25,000</td>\n",
       "      <td>Top 25,000</td>\n",
       "    </tr>\n",
       "  </tbody>\n",
       "</table>\n",
       "<p>68 rows × 15 columns</p>\n",
       "</div>"
      ],
      "text/plain": [
       "       anime_id                                              title  \\\n",
       "4978       7398                                Sekai Meisaku Douwa   \n",
       "17585     43629                                 Tokyo Babylon 2021   \n",
       "19531     46488  Tai-Ari deshita.: Ojousama wa Kakutou Game nan...   \n",
       "21023     48701                        Peleliu: Rakuen no Guernica   \n",
       "21443     49703          Fate/kaleid liner Prisma☆Illya (Zoku-hen)   \n",
       "...         ...                                                ...   \n",
       "26654     58573                                           Baki-dou   \n",
       "26692     58725                Ninja to Koroshiya no Futarigurashi   \n",
       "26693     58725                Ninja to Koroshiya no Futarigurashi   \n",
       "26707     58755                              5-toubun no Hanayome*   \n",
       "26710     58773                 Keroro Gunsou (Anime Shin Project)   \n",
       "\n",
       "                        title_english type   source  episodes  \\\n",
       "4978   World Famous Fairy Tale Series  NaN  Unknown      20.0   \n",
       "17585                             NaN  NaN    Manga       NaN   \n",
       "19531                             NaN  NaN    Manga       NaN   \n",
       "21023                             NaN  NaN    Manga       NaN   \n",
       "21443                             NaN  NaN    Manga       NaN   \n",
       "...                               ...  ...      ...       ...   \n",
       "26654                             NaN  NaN    Manga       NaN   \n",
       "26692                             NaN  NaN    Manga       NaN   \n",
       "26693                             NaN  NaN    Manga       NaN   \n",
       "26707                             NaN  NaN    Manga       NaN   \n",
       "26710                             NaN  NaN    Manga       NaN   \n",
       "\n",
       "                          rating  score  \\\n",
       "4978                G - All Ages   6.12   \n",
       "17585                        NaN   6.44   \n",
       "19531                        NaN   6.44   \n",
       "21023                        NaN   6.44   \n",
       "21443                        NaN   6.44   \n",
       "...                          ...    ...   \n",
       "26654                        NaN   6.44   \n",
       "26692                        NaN   6.44   \n",
       "26693                        NaN   6.44   \n",
       "26707  PG-13 - Teens 13 or older   6.44   \n",
       "26710                        NaN   6.44   \n",
       "\n",
       "                                                synopsis   producers  \\\n",
       "4978   Another of Toei's World Famous Fairy Tale seri...          []   \n",
       "17585  Subaru Sumeragi is the thirteenth head of his ...          []   \n",
       "19531  A hot fighting game played at the girls' schoo...          []   \n",
       "21023  Shouwa 19 , summer. Tamaru, a soldier who aspi...          []   \n",
       "21443  Sequel to Fate/kaleid liner Prisma☆Illya Movie...          []   \n",
       "...                                                  ...         ...   \n",
       "26654  Growing complacent with his title of \"World's ...          []   \n",
       "26692  Satoko Kusagakure, a female ninja who left her...  [Kadokawa]   \n",
       "26693  Satoko Kusagakure, a female ninja who left her...  [Kadokawa]   \n",
       "26707  5-toubun no Hanayome* centers on the honeymoon...          []   \n",
       "26710  New Keroro Gunsou project to celebrate its 20t...          []   \n",
       "\n",
       "      licensors              studios                            genres  \\\n",
       "4978         []                   []                         [Fantasy]   \n",
       "17585        []                   []  [Boys Love, Drama, Supernatural]   \n",
       "19531        []                   []              [Comedy, Girls Love]   \n",
       "21023        []                   []                           [Drama]   \n",
       "21443        []                   []                 [Action, Fantasy]   \n",
       "...         ...                  ...                               ...   \n",
       "26654        []  [TMS Entertainment]                          [Action]   \n",
       "26692        []              [Shaft]                   [Slice of Life]   \n",
       "26693        []              [Shaft]                   [Slice of Life]   \n",
       "26707        []                   []                 [Comedy, Romance]   \n",
       "26710        []                   []                  [Comedy, Sci-Fi]   \n",
       "\n",
       "      Popularity_category Rank_category  \n",
       "4978           Top 25,000    Top 10,000  \n",
       "17585           Top 7,500    Top 25,000  \n",
       "19531          Top 10,000    Top 25,000  \n",
       "21023          Top 25,000    Top 25,000  \n",
       "21443           Top 7,500    Top 25,000  \n",
       "...                   ...           ...  \n",
       "26654           Top 7,500    Top 25,000  \n",
       "26692          Top 25,000    Top 25,000  \n",
       "26693          Top 25,000    Top 25,000  \n",
       "26707           Top 7,500    Top 25,000  \n",
       "26710          Top 25,000    Top 25,000  \n",
       "\n",
       "[68 rows x 15 columns]"
      ]
     },
     "execution_count": 40,
     "metadata": {},
     "output_type": "execute_result"
    }
   ],
   "source": [
    "null_type_rows = df[df[\"type\"].isnull()]\n",
    "null_type_rows"
   ]
  },
  {
   "cell_type": "code",
   "execution_count": 41,
   "metadata": {},
   "outputs": [
    {
     "name": "stdout",
     "output_type": "stream",
     "text": [
      "<class 'pandas.core.frame.DataFrame'>\n",
      "Index: 26110 entries, 0 to 26719\n",
      "Data columns (total 15 columns):\n",
      " #   Column               Non-Null Count  Dtype  \n",
      "---  ------               --------------  -----  \n",
      " 0   anime_id             26110 non-null  int64  \n",
      " 1   title                26110 non-null  object \n",
      " 2   title_english        11087 non-null  object \n",
      " 3   type                 26110 non-null  object \n",
      " 4   source               26110 non-null  object \n",
      " 5   episodes             25575 non-null  float64\n",
      " 6   rating               25599 non-null  object \n",
      " 7   score                26110 non-null  float64\n",
      " 8   synopsis             21337 non-null  object \n",
      " 9   producers            26110 non-null  object \n",
      " 10  licensors            26110 non-null  object \n",
      " 11  studios              26110 non-null  object \n",
      " 12  genres               26110 non-null  object \n",
      " 13  Popularity_category  26110 non-null  object \n",
      " 14  Rank_category        26110 non-null  object \n",
      "dtypes: float64(2), int64(1), object(12)\n",
      "memory usage: 3.2+ MB\n"
     ]
    }
   ],
   "source": [
    "df = df.dropna(subset=[\"type\"])\n",
    "df.info()"
   ]
  },
  {
   "cell_type": "code",
   "execution_count": 43,
   "metadata": {},
   "outputs": [
    {
     "data": {
      "text/plain": [
       "rating\n",
       "PG-13 - Teens 13 or older         9177\n",
       "G - All Ages                      8027\n",
       "PG - Children                     4225\n",
       "Rx - Hentai                       1517\n",
       "R - 17+ (violence & profanity)    1480\n",
       "R+ - Mild Nudity                  1173\n",
       "Name: count, dtype: int64"
      ]
     },
     "execution_count": 43,
     "metadata": {},
     "output_type": "execute_result"
    }
   ],
   "source": [
    "df['rating'].value_counts()"
   ]
  },
  {
   "cell_type": "code",
   "execution_count": null,
   "metadata": {},
   "outputs": [],
   "source": [
    "df[\"rating\"] = df[\"rating\"].fillna(\"PG-13 - Teens 13 or older\")"
   ]
  },
  {
   "cell_type": "code",
   "execution_count": 45,
   "metadata": {},
   "outputs": [
    {
     "data": {
      "text/plain": [
       "rating\n",
       "PG-13 - Teens 13 or older         9688\n",
       "G - All Ages                      8027\n",
       "PG - Children                     4225\n",
       "Rx - Hentai                       1517\n",
       "R - 17+ (violence & profanity)    1480\n",
       "R+ - Mild Nudity                  1173\n",
       "Name: count, dtype: int64"
      ]
     },
     "execution_count": 45,
     "metadata": {},
     "output_type": "execute_result"
    }
   ],
   "source": [
    "df['rating'].value_counts()"
   ]
  },
  {
   "cell_type": "code",
   "execution_count": 46,
   "metadata": {},
   "outputs": [
    {
     "name": "stdout",
     "output_type": "stream",
     "text": [
      "<class 'pandas.core.frame.DataFrame'>\n",
      "Index: 26110 entries, 0 to 26719\n",
      "Data columns (total 15 columns):\n",
      " #   Column               Non-Null Count  Dtype  \n",
      "---  ------               --------------  -----  \n",
      " 0   anime_id             26110 non-null  int64  \n",
      " 1   title                26110 non-null  object \n",
      " 2   title_english        11087 non-null  object \n",
      " 3   type                 26110 non-null  object \n",
      " 4   source               26110 non-null  object \n",
      " 5   episodes             25575 non-null  float64\n",
      " 6   rating               26110 non-null  object \n",
      " 7   score                26110 non-null  float64\n",
      " 8   synopsis             21337 non-null  object \n",
      " 9   producers            26110 non-null  object \n",
      " 10  licensors            26110 non-null  object \n",
      " 11  studios              26110 non-null  object \n",
      " 12  genres               26110 non-null  object \n",
      " 13  Popularity_category  26110 non-null  object \n",
      " 14  Rank_category        26110 non-null  object \n",
      "dtypes: float64(2), int64(1), object(12)\n",
      "memory usage: 3.2+ MB\n"
     ]
    }
   ],
   "source": [
    "df.info()"
   ]
  },
  {
   "cell_type": "code",
   "execution_count": 47,
   "metadata": {},
   "outputs": [
    {
     "data": {
      "text/plain": [
       "np.int64(13742)"
      ]
     },
     "execution_count": 47,
     "metadata": {},
     "output_type": "execute_result"
    }
   ],
   "source": [
    "empty_list_count = df[\"producers\"].apply(lambda x: isinstance(x, list) and len(x) == 0).sum()\n",
    "empty_list_count"
   ]
  },
  {
   "cell_type": "code",
   "execution_count": 48,
   "metadata": {},
   "outputs": [
    {
     "data": {
      "text/plain": [
       "np.int64(10865)"
      ]
     },
     "execution_count": 48,
     "metadata": {},
     "output_type": "execute_result"
    }
   ],
   "source": [
    "empty_list_count = df[\"studios\"].apply(lambda x: isinstance(x, list) and len(x) == 0).sum()\n",
    "empty_list_count"
   ]
  },
  {
   "cell_type": "code",
   "execution_count": 49,
   "metadata": {},
   "outputs": [
    {
     "data": {
      "text/plain": [
       "np.int64(21252)"
      ]
     },
     "execution_count": 49,
     "metadata": {},
     "output_type": "execute_result"
    }
   ],
   "source": [
    "empty_list_count = df[\"licensors\"].apply(lambda x: isinstance(x, list) and len(x) == 0).sum()\n",
    "empty_list_count"
   ]
  },
  {
   "cell_type": "code",
   "execution_count": 51,
   "metadata": {},
   "outputs": [
    {
     "data": {
      "text/plain": [
       "licensors\n",
       "[]                                           21252\n",
       "[Funimation]                                   981\n",
       "[Sentai Filmworks]                             842\n",
       "[Discotek Media]                               299\n",
       "[Aniplex of America]                           227\n",
       "                                             ...  \n",
       "[Haoliners Animation League]                     1\n",
       "[Sony Pictures Entertainment, Funimation]        1\n",
       "[King Records]                                   1\n",
       "[Funimation, VIZ Media]                          1\n",
       "[Funimation, 4Kids Entertainment]                1\n",
       "Name: count, Length: 264, dtype: int64"
      ]
     },
     "execution_count": 51,
     "metadata": {},
     "output_type": "execute_result"
    }
   ],
   "source": [
    "df['licensors'].value_counts()"
   ]
  },
  {
   "cell_type": "code",
   "execution_count": 52,
   "metadata": {},
   "outputs": [
    {
     "data": {
      "text/plain": [
       "producers\n",
       "[]                                                                     13742\n",
       "[NHK]                                                                   1079\n",
       "[Pink Pineapple]                                                         264\n",
       "[Sanrio]                                                                 175\n",
       "[Fuji TV]                                                                131\n",
       "                                                                       ...  \n",
       "[Fuji TV, Sony Music Entertainment]                                        1\n",
       "[Mainichi Broadcasting System, Kodansha, TOHO, Streamline Pictures]        1\n",
       "[TMS Entertainment, Half H.P Studio, Nichion, Kadokawa]                    1\n",
       "[Happinet]                                                                 1\n",
       "[TV Tokyo, King Records]                                                   1\n",
       "Name: count, Length: 4683, dtype: int64"
      ]
     },
     "execution_count": 52,
     "metadata": {},
     "output_type": "execute_result"
    }
   ],
   "source": [
    "df['producers'].value_counts()"
   ]
  },
  {
   "cell_type": "code",
   "execution_count": 56,
   "metadata": {},
   "outputs": [],
   "source": [
    "df = df.dropna(subset = [\"episodes\"])"
   ]
  },
  {
   "cell_type": "code",
   "execution_count": 57,
   "metadata": {},
   "outputs": [
    {
     "name": "stdout",
     "output_type": "stream",
     "text": [
      "<class 'pandas.core.frame.DataFrame'>\n",
      "Index: 25575 entries, 0 to 26719\n",
      "Data columns (total 15 columns):\n",
      " #   Column               Non-Null Count  Dtype  \n",
      "---  ------               --------------  -----  \n",
      " 0   anime_id             25575 non-null  int64  \n",
      " 1   title                25575 non-null  object \n",
      " 2   title_english        10873 non-null  object \n",
      " 3   type                 25575 non-null  object \n",
      " 4   source               25575 non-null  object \n",
      " 5   episodes             25575 non-null  float64\n",
      " 6   rating               25575 non-null  object \n",
      " 7   score                25575 non-null  float64\n",
      " 8   synopsis             20907 non-null  object \n",
      " 9   producers            25575 non-null  object \n",
      " 10  licensors            25575 non-null  object \n",
      " 11  studios              25575 non-null  object \n",
      " 12  genres               25575 non-null  object \n",
      " 13  Popularity_category  25575 non-null  object \n",
      " 14  Rank_category        25575 non-null  object \n",
      "dtypes: float64(2), int64(1), object(12)\n",
      "memory usage: 3.1+ MB\n"
     ]
    }
   ],
   "source": [
    "df.info()"
   ]
  },
  {
   "cell_type": "code",
   "execution_count": 58,
   "metadata": {},
   "outputs": [
    {
     "data": {
      "text/plain": [
       "genres\n",
       "[]                                              5359\n",
       "[Comedy]                                        2311\n",
       "[Fantasy]                                       1347\n",
       "[Hentai]                                        1192\n",
       "[Avant Garde]                                    659\n",
       "                                                ... \n",
       "[Adventure, Comedy, Drama, Gourmet, Romance]       1\n",
       "[Action, Girls Love]                               1\n",
       "[Comedy, Fantasy, Girls Love]                      1\n",
       "[Award Winning, Drama, Horror]                     1\n",
       "[Avant Garde, Drama, Erotica]                      1\n",
       "Name: count, Length: 956, dtype: int64"
      ]
     },
     "execution_count": 58,
     "metadata": {},
     "output_type": "execute_result"
    }
   ],
   "source": [
    "df['genres'].value_counts()"
   ]
  },
  {
   "cell_type": "code",
   "execution_count": 62,
   "metadata": {},
   "outputs": [
    {
     "name": "stdout",
     "output_type": "stream",
     "text": [
      "<class 'pandas.core.frame.DataFrame'>\n",
      "Index: 20216 entries, 0 to 26719\n",
      "Data columns (total 15 columns):\n",
      " #   Column               Non-Null Count  Dtype  \n",
      "---  ------               --------------  -----  \n",
      " 0   anime_id             20216 non-null  int64  \n",
      " 1   title                20216 non-null  object \n",
      " 2   title_english        9636 non-null   object \n",
      " 3   type                 20216 non-null  object \n",
      " 4   source               20216 non-null  object \n",
      " 5   episodes             20216 non-null  float64\n",
      " 6   rating               20216 non-null  object \n",
      " 7   score                20216 non-null  float64\n",
      " 8   synopsis             17175 non-null  object \n",
      " 9   producers            20216 non-null  object \n",
      " 10  licensors            20216 non-null  object \n",
      " 11  studios              20216 non-null  object \n",
      " 12  genres               20216 non-null  object \n",
      " 13  Popularity_category  20216 non-null  object \n",
      " 14  Rank_category        20216 non-null  object \n",
      "dtypes: float64(2), int64(1), object(12)\n",
      "memory usage: 2.5+ MB\n"
     ]
    }
   ],
   "source": [
    "df = df[df[\"genres\"].apply(lambda x: isinstance(x, list) and len(x) > 0)]\n",
    "df.info()"
   ]
  },
  {
   "cell_type": "code",
   "execution_count": 63,
   "metadata": {},
   "outputs": [],
   "source": [
    "df = df.drop(columns=[\"title_english\"])"
   ]
  },
  {
   "cell_type": "code",
   "execution_count": 64,
   "metadata": {},
   "outputs": [],
   "source": [
    "df.to_csv('2024_Processed.csv', index = False)"
   ]
  }
 ],
 "metadata": {
  "kernelspec": {
   "display_name": "Python 3",
   "language": "python",
   "name": "python3"
  },
  "language_info": {
   "codemirror_mode": {
    "name": "ipython",
    "version": 3
   },
   "file_extension": ".py",
   "mimetype": "text/x-python",
   "name": "python",
   "nbconvert_exporter": "python",
   "pygments_lexer": "ipython3",
   "version": "3.10.11"
  }
 },
 "nbformat": 4,
 "nbformat_minor": 2
}
